{
 "cells": [
  {
   "cell_type": "code",
   "execution_count": 2,
   "id": "0655c87b-bb59-49f0-91db-1d521b60f799",
   "metadata": {},
   "outputs": [
    {
     "name": "stdout",
     "output_type": "stream",
     "text": [
      "the datatype of a is <class 'int'>\n",
      "the datatype of a is <class 'float'>\n",
      "the datatype of a is <class 'str'>\n"
     ]
    }
   ],
   "source": [
    "a=50\n",
    "b=10.4\n",
    "c=\"Hello\"\n",
    "\n",
    "print(\"the datatype of a is\", type(a))\n",
    "print(\"the datatype of a is\", type(b))\n",
    "print(\"the datatype of a is\", type(c))"
   ]
  },
  {
   "cell_type": "code",
   "execution_count": 3,
   "id": "2d56412b-5285-4d7a-a15a-5f83eec2b066",
   "metadata": {},
   "outputs": [
    {
     "data": {
      "text/plain": [
       "False"
      ]
     },
     "execution_count": 3,
     "metadata": {},
     "output_type": "execute_result"
    }
   ],
   "source": [
    "String=\"My Name is Adam\"\n",
    "String.isupper()"
   ]
  },
  {
   "cell_type": "code",
   "execution_count": 4,
   "id": "773012ea-3300-4757-b06c-64175fb13488",
   "metadata": {},
   "outputs": [
    {
     "data": {
      "text/plain": [
       "15"
      ]
     },
     "execution_count": 4,
     "metadata": {},
     "output_type": "execute_result"
    }
   ],
   "source": [
    "len(String)"
   ]
  },
  {
   "cell_type": "code",
   "execution_count": 5,
   "id": "cca29594-725c-4409-9aa5-0c45b1e6bb3c",
   "metadata": {},
   "outputs": [
    {
     "data": {
      "text/plain": [
       "4"
      ]
     },
     "execution_count": 5,
     "metadata": {},
     "output_type": "execute_result"
    }
   ],
   "source": [
    "2+2"
   ]
  },
  {
   "cell_type": "code",
   "execution_count": 8,
   "id": "96584276-bc8e-4589-ab6a-ccb71d31dab6",
   "metadata": {},
   "outputs": [
    {
     "name": "stdout",
     "output_type": "stream",
     "text": [
      "the price of the mobile in $900\n"
     ]
    }
   ],
   "source": [
    "price = 900\n",
    "print('the price of the mobile in $',price,sep='')"
   ]
  },
  {
   "cell_type": "code",
   "execution_count": 9,
   "id": "e51e44bd-d594-4f07-a125-ca1dbf4239e2",
   "metadata": {},
   "outputs": [
    {
     "name": "stdout",
     "output_type": "stream",
     "text": [
      "the brand of the mobile is apple\n"
     ]
    }
   ],
   "source": [
    "brand = 'apple'\n",
    "print ('the brand of the mobile is',brand)"
   ]
  },
  {
   "cell_type": "code",
   "execution_count": 12,
   "id": "a775fccb-0203-4d85-8ee0-9a9b5deef375",
   "metadata": {},
   "outputs": [
    {
     "name": "stdout",
     "output_type": "stream",
     "text": [
      "the ram of the mobileis 4 GB\n"
     ]
    }
   ],
   "source": [
    "ram = 4\n",
    "print ('the ram of the mobileis', ram,'GB')"
   ]
  },
  {
   "cell_type": "code",
   "execution_count": 13,
   "id": "75a0699b-3e9d-4912-b515-df63e3f0bcfe",
   "metadata": {},
   "outputs": [
    {
     "name": "stdout",
     "output_type": "stream",
     "text": [
      "the internal storage of the mobile is 128 GB\n"
     ]
    }
   ],
   "source": [
    "storage = 128\n",
    "print ('the internal storage of the mobile is', storage,'GB')"
   ]
  },
  {
   "cell_type": "code",
   "execution_count": 20,
   "id": "25ace2dd-a25c-4a2b-9d4c-4b8cfa591190",
   "metadata": {},
   "outputs": [
    {
     "name": "stdout",
     "output_type": "stream",
     "text": [
      "True\n"
     ]
    }
   ],
   "source": [
    "is_billed = True\n",
    "print (is_billed)"
   ]
  },
  {
   "cell_type": "code",
   "execution_count": 21,
   "id": "3a5f3a4b-c826-4635-9273-a23ed272f526",
   "metadata": {},
   "outputs": [
    {
     "data": {
      "text/plain": [
       "int"
      ]
     },
     "execution_count": 21,
     "metadata": {},
     "output_type": "execute_result"
    }
   ],
   "source": [
    "type (price)"
   ]
  },
  {
   "cell_type": "code",
   "execution_count": 22,
   "id": "1cbbb49c-80d8-415b-9911-b8c451b69554",
   "metadata": {},
   "outputs": [
    {
     "data": {
      "text/plain": [
       "str"
      ]
     },
     "execution_count": 22,
     "metadata": {},
     "output_type": "execute_result"
    }
   ],
   "source": [
    "type (brand)"
   ]
  },
  {
   "cell_type": "code",
   "execution_count": 23,
   "id": "eba59022-e031-4382-bb87-0b4047047869",
   "metadata": {},
   "outputs": [
    {
     "data": {
      "text/plain": [
       "int"
      ]
     },
     "execution_count": 23,
     "metadata": {},
     "output_type": "execute_result"
    }
   ],
   "source": [
    "type (ram)"
   ]
  },
  {
   "cell_type": "code",
   "execution_count": 24,
   "id": "5eba5add-151b-4360-b97a-c2099a76d77a",
   "metadata": {},
   "outputs": [
    {
     "data": {
      "text/plain": [
       "int"
      ]
     },
     "execution_count": 24,
     "metadata": {},
     "output_type": "execute_result"
    }
   ],
   "source": [
    "type (storage)"
   ]
  },
  {
   "cell_type": "code",
   "execution_count": 25,
   "id": "4474b012-618d-4a6a-b092-d609a1ffb616",
   "metadata": {},
   "outputs": [
    {
     "data": {
      "text/plain": [
       "bool"
      ]
     },
     "execution_count": 25,
     "metadata": {},
     "output_type": "execute_result"
    }
   ],
   "source": [
    "type (is_billed)"
   ]
  },
  {
   "cell_type": "code",
   "execution_count": 26,
   "id": "31ab95a8-b758-472f-a25b-49d749a91bd8",
   "metadata": {},
   "outputs": [
    {
     "name": "stdout",
     "output_type": "stream",
     "text": [
      "the bill amount is $1800\n"
     ]
    }
   ],
   "source": [
    "bill = price+price\n",
    "bill = price*2\n",
    "print ('the bill amount is $',bill,sep ='')"
   ]
  },
  {
   "cell_type": "code",
   "execution_count": 29,
   "id": "59ede38c-16a0-4a3e-8774-00d9eccf30c8",
   "metadata": {},
   "outputs": [
    {
     "name": "stdout",
     "output_type": "stream",
     "text": [
      "the price of the iphone after the discount is $885\n"
     ]
    }
   ],
   "source": [
    "price = 900\n",
    "discount = 15\n",
    "price_after_discount = price - discount\n",
    "print ('the price of the iphone after the discount is $',price_after_discount,sep='')"
   ]
  },
  {
   "cell_type": "code",
   "execution_count": 33,
   "id": "e6a815c9-03da-4a21-9de6-391e0e3d3280",
   "metadata": {},
   "outputs": [],
   "source": [
    "products_gst_slabs = {'Product1':18,'Product2':18,'Product3':5,'Product4':18,'Product5':12,'Product6':5,\n",
    "                          'Product7':12}\n",
    "\n",
    "products_original_cost = {'Product1':1000,'Product2':250,'Product3':125,'Product4':345,'Product5':820,'Product6':980,\n",
    "                          'Product7':500}"
   ]
  },
  {
   "cell_type": "code",
   "execution_count": 36,
   "id": "4a5c7d6c-1b05-4519-895d-b52af8487812",
   "metadata": {},
   "outputs": [],
   "source": [
    "def math_fun(x,y):\n",
    "    add = x + y\n",
    "    sub = x-y\n",
    "    return add,sub\n",
    "    math_fun(4,2)"
   ]
  },
  {
   "cell_type": "code",
   "execution_count": 37,
   "id": "5e5fe375-afa1-4e69-b173-4025f489deac",
   "metadata": {},
   "outputs": [
    {
     "name": "stdout",
     "output_type": "stream",
     "text": [
      "True\n"
     ]
    }
   ],
   "source": [
    "def prime(n):\n",
    "    if (n==1):\n",
    "        return False\n",
    "    elif (n==2):\n",
    "        return True;\n",
    "    else:\n",
    "        for x in range(2,n):\n",
    "            if(n % x==0):\n",
    "                return False\n",
    "        return True             \n",
    "\n",
    "\n",
    "print(prime(7))"
   ]
  },
  {
   "cell_type": "code",
   "execution_count": 39,
   "id": "ca0ecd1f-78ba-4e92-9391-3e5600823511",
   "metadata": {},
   "outputs": [
    {
     "ename": "TypeError",
     "evalue": "'str' object cannot be interpreted as an integer",
     "output_type": "error",
     "traceback": [
      "\u001b[1;31m---------------------------------------------------------------------------\u001b[0m",
      "\u001b[1;31mTypeError\u001b[0m                                 Traceback (most recent call last)",
      "Cell \u001b[1;32mIn[39], line 21\u001b[0m\n\u001b[0;32m     19\u001b[0m     \u001b[38;5;28;01mreturn\u001b[39;00m \u001b[38;5;28mlen\u001b[39m(prime)\n\u001b[0;32m     20\u001b[0m     a \u001b[38;5;241m=\u001b[39m [\u001b[38;5;241m2\u001b[39m,\u001b[38;5;241m3\u001b[39m,\u001b[38;5;241m4\u001b[39m,\u001b[38;5;241m5\u001b[39m,\u001b[38;5;241m6\u001b[39m,\u001b[38;5;241m7\u001b[39m,\u001b[38;5;241m10\u001b[39m]\n\u001b[1;32m---> 21\u001b[0m \u001b[38;5;28mprint\u001b[39m (\u001b[38;5;124m\"\u001b[39m\u001b[38;5;124mHere Output shows the prime numbers & there count as well i.e.\u001b[39m\u001b[38;5;124m\"\u001b[39m, count_primenumber_in_list(a))\n",
      "Cell \u001b[1;32mIn[39], line 10\u001b[0m, in \u001b[0;36mcount_primenumber_in_list\u001b[1;34m(numbers)\u001b[0m\n\u001b[0;32m      8\u001b[0m \u001b[38;5;28;01melse\u001b[39;00m:\n\u001b[0;32m      9\u001b[0m     is_prime \u001b[38;5;241m=\u001b[39m \u001b[38;5;28;01mTrue\u001b[39;00m\n\u001b[1;32m---> 10\u001b[0m     \u001b[38;5;28;01mfor\u001b[39;00m i \u001b[38;5;129;01min\u001b[39;00m \u001b[38;5;28mrange\u001b[39m(\u001b[38;5;241m2\u001b[39m, num):\n\u001b[0;32m     11\u001b[0m         \u001b[38;5;28;01mif\u001b[39;00m num \u001b[38;5;241m%\u001b[39m i \u001b[38;5;241m==\u001b[39m \u001b[38;5;241m0\u001b[39m:\n\u001b[0;32m     12\u001b[0m             is_prime \u001b[38;5;241m=\u001b[39m \u001b[38;5;28;01mFalse\u001b[39;00m\n",
      "\u001b[1;31mTypeError\u001b[0m: 'str' object cannot be interpreted as an integer"
     ]
    }
   ],
   "source": [
    "def count_primenumber_in_list(numbers):\n",
    "    prime = []\n",
    "\n",
    "    for num in numbers:\n",
    "        if num == 2:\n",
    "            print(num)\n",
    "            prime.append(num)\n",
    "        else:\n",
    "            is_prime = True\n",
    "            for i in range(2, num):\n",
    "                if num % i == 0:\n",
    "                    is_prime = False\n",
    "                    break\n",
    "\n",
    "            if is_prime:\n",
    "                print (num)\n",
    "                prime.append(num)\n",
    "\n",
    "    return len(prime)\n",
    "    a = [2,3,4,5,6,7,10]\n",
    "print (\"Here Output shows the prime numbers & there count as well i.e.\", count_primenumber_in_list(a)) "
   ]
  },
  {
   "cell_type": "code",
   "execution_count": 40,
   "id": "07c0dfab-2ece-4d72-824f-2ef0555cbdf0",
   "metadata": {},
   "outputs": [
    {
     "name": "stdout",
     "output_type": "stream",
     "text": [
      "[6, 9, 12, 15]\n"
     ]
    }
   ],
   "source": [
    "print(list(range(6,16,3)))"
   ]
  },
  {
   "cell_type": "code",
   "execution_count": 44,
   "id": "3c674f38-869c-4de7-a2de-8a20fd42794e",
   "metadata": {},
   "outputs": [
    {
     "name": "stdout",
     "output_type": "stream",
     "text": [
      "the price after providing<built-in function id>percent discount is $855.0\n",
      "the price after providing<built-in function id>percent discount is $810.0\n",
      "the price after providing<built-in function id>percent discount is $765.0\n",
      "the price after providing<built-in function id>percent discount is $720.0\n"
     ]
    }
   ],
   "source": [
    " price = 900\n",
    "for ind in range(5,21,5):\n",
    "    discount = price * (ind/100)\n",
    "    discounted_price = price - discount\n",
    "    print('the price after providing',id,'percent discount is $',discounted_price,sep='')"
   ]
  },
  {
   "cell_type": "code",
   "execution_count": null,
   "id": "6bfb6d8a-b13e-42b8-b5be-c8dcf7c6d9c0",
   "metadata": {},
   "outputs": [],
   "source": []
  },
  {
   "cell_type": "code",
   "execution_count": 45,
   "id": "595e4db8-9408-4d54-992e-b168c8a7389c",
   "metadata": {},
   "outputs": [
    {
     "name": "stdout",
     "output_type": "stream",
     "text": [
      "range(0, 5)\n"
     ]
    }
   ],
   "source": [
    "print(range(5))"
   ]
  },
  {
   "cell_type": "code",
   "execution_count": 47,
   "id": "1801ca04-a52e-416d-9fd3-0192c607741a",
   "metadata": {},
   "outputs": [
    {
     "name": "stdout",
     "output_type": "stream",
     "text": [
      "2\n",
      "4\n",
      "6\n",
      "8\n"
     ]
    }
   ],
   "source": [
    "for i in range(1,5):\n",
    "    print(i*2)"
   ]
  },
  {
   "cell_type": "code",
   "execution_count": null,
   "id": "a21b8a70-95a0-4891-ba0a-02925d4408ec",
   "metadata": {},
   "outputs": [],
   "source": []
  }
 ],
 "metadata": {
  "kernelspec": {
   "display_name": "Python 3 (ipykernel)",
   "language": "python",
   "name": "python3"
  },
  "language_info": {
   "codemirror_mode": {
    "name": "ipython",
    "version": 3
   },
   "file_extension": ".py",
   "mimetype": "text/x-python",
   "name": "python",
   "nbconvert_exporter": "python",
   "pygments_lexer": "ipython3",
   "version": "3.11.5"
  }
 },
 "nbformat": 4,
 "nbformat_minor": 5
}
