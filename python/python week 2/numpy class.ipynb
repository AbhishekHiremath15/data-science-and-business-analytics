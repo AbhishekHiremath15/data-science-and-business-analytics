{
 "cells": [
  {
   "cell_type": "code",
   "execution_count": 3,
   "id": "917bc0c7-412c-4f33-b2b5-89f201c2a1f0",
   "metadata": {},
   "outputs": [
    {
     "name": "stdout",
     "output_type": "stream",
     "text": [
      "['Cricket' 'Football' 'Tennis' 'Golf' 'Baseball']\n"
     ]
    }
   ],
   "source": [
    "import numpy as np\n",
    "sports = ['Cricket', 'Football', 'Tennis', 'Golf', 'Baseball']\n",
    "sports_new = np.array(sports)\n",
    "print(sports_new)"
   ]
  },
  {
   "cell_type": "code",
   "execution_count": 4,
   "id": "230b959b-ef85-4a6d-b4cf-bf754d51aef9",
   "metadata": {},
   "outputs": [
    {
     "name": "stdout",
     "output_type": "stream",
     "text": [
      "[[1 2 1]\n",
      " [4 5 9]\n",
      " [1 8 9]]\n"
     ]
    }
   ],
   "source": [
    "mat = np.array([[1,2,1],[4,5,9],[1,8,9]])\n",
    "print(mat)"
   ]
  },
  {
   "cell_type": "code",
   "execution_count": 6,
   "id": "9b2f350f-45f9-4563-be66-db1862ec23ab",
   "metadata": {},
   "outputs": [
    {
     "name": "stdout",
     "output_type": "stream",
     "text": [
      "[0 1 2 3 4 5 6 7 8 9]\n"
     ]
    }
   ],
   "source": [
    "arr2 = np.arange(0,10)\n",
    "print(arr2)"
   ]
  },
  {
   "cell_type": "code",
   "execution_count": 7,
   "id": "a271dd48-184a-495b-a2e6-ba3ce3f830da",
   "metadata": {},
   "outputs": [
    {
     "name": "stdout",
     "output_type": "stream",
     "text": [
      "[ 0  5 10 15 20]\n"
     ]
    }
   ],
   "source": [
    "arr2 = np.arange(0,25,5)\n",
    "print(arr2)"
   ]
  },
  {
   "cell_type": "code",
   "execution_count": 8,
   "id": "86f08adb-a562-41a9-ada0-971c980531d4",
   "metadata": {},
   "outputs": [
    {
     "name": "stdout",
     "output_type": "stream",
     "text": [
      "[0.         0.10204082 0.20408163 0.30612245 0.40816327 0.51020408\n",
      " 0.6122449  0.71428571 0.81632653 0.91836735 1.02040816 1.12244898\n",
      " 1.2244898  1.32653061 1.42857143 1.53061224 1.63265306 1.73469388\n",
      " 1.83673469 1.93877551 2.04081633 2.14285714 2.24489796 2.34693878\n",
      " 2.44897959 2.55102041 2.65306122 2.75510204 2.85714286 2.95918367\n",
      " 3.06122449 3.16326531 3.26530612 3.36734694 3.46938776 3.57142857\n",
      " 3.67346939 3.7755102  3.87755102 3.97959184 4.08163265 4.18367347\n",
      " 4.28571429 4.3877551  4.48979592 4.59183673 4.69387755 4.79591837\n",
      " 4.89795918 5.        ]\n"
     ]
    }
   ],
   "source": [
    "arr3 = np.linspace(0,5)\n",
    "print(arr3)"
   ]
  },
  {
   "cell_type": "code",
   "execution_count": 13,
   "id": "6e8fa07d-72b2-4c0f-acc4-433363230e56",
   "metadata": {},
   "outputs": [
    {
     "name": "stdout",
     "output_type": "stream",
     "text": [
      "[[0. 0. 0. 0. 0.]\n",
      " [0. 0. 0. 0. 0.]\n",
      " [0. 0. 0. 0. 0.]]\n"
     ]
    }
   ],
   "source": [
    "matx4 = np.zeros([3,5])\n",
    "print(matx4)"
   ]
  },
  {
   "cell_type": "code",
   "execution_count": 14,
   "id": "256d2526-63f7-4d06-ad55-673640c88d6a",
   "metadata": {},
   "outputs": [
    {
     "name": "stdout",
     "output_type": "stream",
     "text": [
      "[[1. 0. 0. 0. 0.]\n",
      " [0. 1. 0. 0. 0.]\n",
      " [0. 0. 1. 0. 0.]\n",
      " [0. 0. 0. 1. 0.]\n",
      " [0. 0. 0. 0. 1.]]\n"
     ]
    }
   ],
   "source": [
    "arr5 = np.eye(5)\n",
    "print(arr5)"
   ]
  },
  {
   "cell_type": "code",
   "execution_count": 15,
   "id": "22f0f3c7-f824-492c-baeb-0813c21a23e7",
   "metadata": {},
   "outputs": [
    {
     "name": "stdout",
     "output_type": "stream",
     "text": [
      "[10 13 16 19]\n"
     ]
    }
   ],
   "source": [
    "vec = np.arange(10, 20, 3)\n",
    "print(vec)"
   ]
  },
  {
   "cell_type": "code",
   "execution_count": 16,
   "id": "30f94dd1-ae97-4dec-9842-c8169c2831ed",
   "metadata": {},
   "outputs": [
    {
     "name": "stdout",
     "output_type": "stream",
     "text": [
      "[0 1 2 3 4 5 6 7 8 9]\n"
     ]
    }
   ],
   "source": [
    "arr2 = np.arange(0,10)\n",
    "print(arr2)"
   ]
  },
  {
   "cell_type": "code",
   "execution_count": 17,
   "id": "c5be68dd-f332-4d38-ae3b-3184fa19597b",
   "metadata": {},
   "outputs": [
    {
     "name": "stdout",
     "output_type": "stream",
     "text": [
      "[[0 1 2 3 4]\n",
      " [5 6 7 8 9]]\n"
     ]
    }
   ],
   "source": [
    "arr2_reshaped = arr2.reshape((2,5))\n",
    "print(arr2_reshaped)"
   ]
  },
  {
   "cell_type": "code",
   "execution_count": 18,
   "id": "19904d3c-efaa-4847-aff0-892d755bc107",
   "metadata": {},
   "outputs": [
    {
     "name": "stdout",
     "output_type": "stream",
     "text": [
      "sine fumction: [ 0.          0.84147098  0.90929743  0.14112001 -0.7568025  -0.95892427\n",
      " -0.2794155   0.6569866   0.98935825  0.41211849]\n",
      "cosine function: [ 1.          0.54030231 -0.41614684 -0.9899925  -0.65364362  0.28366219\n",
      "  0.96017029  0.75390225 -0.14550003 -0.91113026]\n",
      "tan function: [ 0.          1.55740772 -2.18503986 -0.14254654  1.15782128 -3.38051501\n",
      " -0.29100619  0.87144798 -6.79971146 -0.45231566]\n"
     ]
    }
   ],
   "source": [
    "print('sine fumction:',np.sin(arr2))\n",
    "print('cosine function:',np.cos(arr2))\n",
    "print('tan function:',np.tan(arr2))"
   ]
  },
  {
   "cell_type": "code",
   "execution_count": 19,
   "id": "54fa83d3-c163-4872-bed0-8a8aa11eba76",
   "metadata": {},
   "outputs": [
    {
     "name": "stdout",
     "output_type": "stream",
     "text": [
      "[[ 0  1  2]\n",
      " [ 3  4  5]\n",
      " [ 6  7  8]\n",
      " [ 9 10 11]]\n"
     ]
    }
   ],
   "source": [
    "vec1 = np.arange(0, 12)\n",
    "vec2 = vec1.reshape(4, 3)\n",
    "print(vec2)"
   ]
  },
  {
   "cell_type": "code",
   "execution_count": 20,
   "id": "8b0d4f1d-63e2-40e9-be26-f0934c4cc9ad",
   "metadata": {},
   "outputs": [
    {
     "ename": "ValueError",
     "evalue": "cannot reshape array of size 5 into shape (2,3)",
     "output_type": "error",
     "traceback": [
      "\u001b[1;31m---------------------------------------------------------------------------\u001b[0m",
      "\u001b[1;31mValueError\u001b[0m                                Traceback (most recent call last)",
      "Cell \u001b[1;32mIn[20], line 2\u001b[0m\n\u001b[0;32m      1\u001b[0m vec \u001b[38;5;241m=\u001b[39m np\u001b[38;5;241m.\u001b[39marange(\u001b[38;5;241m0\u001b[39m,\u001b[38;5;241m5\u001b[39m) \n\u001b[1;32m----> 2\u001b[0m \u001b[38;5;28mprint\u001b[39m(vec\u001b[38;5;241m.\u001b[39mreshape((\u001b[38;5;241m2\u001b[39m,\u001b[38;5;241m3\u001b[39m)))\n",
      "\u001b[1;31mValueError\u001b[0m: cannot reshape array of size 5 into shape (2,3)"
     ]
    }
   ],
   "source": [
    "vec = np.arange(0,5) \n",
    "print(vec.reshape((2,3)))"
   ]
  },
  {
   "cell_type": "code",
   "execution_count": 21,
   "id": "fe494e5b-36e5-4931-9a2c-acff95364a86",
   "metadata": {},
   "outputs": [
    {
     "name": "stdout",
     "output_type": "stream",
     "text": [
      "[[1 2 3]\n",
      " [4 5 6]\n",
      " [7 8 9]]\n",
      "[[1. 0. 0.]\n",
      " [0. 1. 0.]\n",
      " [0. 0. 1.]]\n"
     ]
    }
   ],
   "source": [
    "matrix7 = np.arange(1,10).reshape(3,3)\n",
    "print(matrix7)\n",
    "matrix8 = np.eye(3)\n",
    "print(matrix8)"
   ]
  },
  {
   "cell_type": "code",
   "execution_count": 22,
   "id": "d1e47db4-90a6-49dd-bf0c-36743a4e4d85",
   "metadata": {},
   "outputs": [
    {
     "name": "stdout",
     "output_type": "stream",
     "text": [
      "[[ 2.  2.  3.]\n",
      " [ 4.  6.  6.]\n",
      " [ 7.  8. 10.]]\n"
     ]
    }
   ],
   "source": [
    "print(matrix7+matrix8)"
   ]
  },
  {
   "cell_type": "code",
   "execution_count": 23,
   "id": "9a9fb11f-e167-4896-9c1f-888e0c9324fd",
   "metadata": {},
   "outputs": [
    {
     "name": "stdout",
     "output_type": "stream",
     "text": [
      "[[1. 0. 0.]\n",
      " [0. 5. 0.]\n",
      " [0. 0. 9.]]\n"
     ]
    }
   ],
   "source": [
    "print(matrix7*matrix8)"
   ]
  },
  {
   "cell_type": "code",
   "execution_count": 24,
   "id": "b72c0bbd-113d-4dd3-86c1-ef5fa480313a",
   "metadata": {},
   "outputs": [
    {
     "name": "stdout",
     "output_type": "stream",
     "text": [
      "[[0. 2. 3.]\n",
      " [4. 4. 6.]\n",
      " [7. 8. 8.]]\n"
     ]
    }
   ],
   "source": [
    "print(matrix7-matrix8)"
   ]
  },
  {
   "cell_type": "code",
   "execution_count": 28,
   "id": "48916624-21e1-400d-9c08-3ff4154c88b1",
   "metadata": {},
   "outputs": [
    {
     "name": "stderr",
     "output_type": "stream",
     "text": [
      "C:\\Users\\hp\\AppData\\Local\\Temp\\ipykernel_1148\\2692608721.py:1: RuntimeWarning: divide by zero encountered in divide\n",
      "  (matrix7/matrix8)\n"
     ]
    },
    {
     "data": {
      "text/plain": [
       "array([[ 1., inf, inf],\n",
       "       [inf,  5., inf],\n",
       "       [inf, inf,  9.]])"
      ]
     },
     "execution_count": 28,
     "metadata": {},
     "output_type": "execute_result"
    }
   ],
   "source": [
    "(matrix7/matrix8)"
   ]
  },
  {
   "cell_type": "code",
   "execution_count": 30,
   "id": "d3d74ec2-22cd-4ba3-afe6-2ae9f87c8f34",
   "metadata": {},
   "outputs": [
    {
     "name": "stdout",
     "output_type": "stream",
     "text": [
      "First Matrix: \n",
      " [[1 2 3]\n",
      " [4 5 6]\n",
      " [7 8 9]]\n",
      "Second Matrix: \n",
      " [[11 12 13]\n",
      " [14 15 16]\n",
      " [17 18 19]]\n",
      "\n",
      "multiplication: \n",
      " [[ 90  96 102]\n",
      " [216 231 246]\n",
      " [342 366 390]]\n"
     ]
    }
   ],
   "source": [
    "matrix9 = np.arange(1,10).reshape(3,3)\n",
    "print('First Matrix: \\n',matrix9)\n",
    "\n",
    "matrix10 = np.arange(11,20).reshape(3,3)\n",
    "print('Second Matrix: \\n',matrix10)\n",
    "print('')\n",
    "print('multiplication: \\n', matrix9 @ matrix10)"
   ]
  },
  {
   "cell_type": "code",
   "execution_count": 31,
   "id": "19bbd420-c560-4f4e-92bc-b9757b77698d",
   "metadata": {},
   "outputs": [
    {
     "data": {
      "text/plain": [
       "array([[1, 4, 7],\n",
       "       [2, 5, 8],\n",
       "       [3, 6, 9]])"
      ]
     },
     "execution_count": 31,
     "metadata": {},
     "output_type": "execute_result"
    }
   ],
   "source": [
    "np.transpose(matrix9)"
   ]
  },
  {
   "cell_type": "code",
   "execution_count": 32,
   "id": "c8446458-3e96-4f82-860d-a728b2525e31",
   "metadata": {},
   "outputs": [
    {
     "ename": "ValueError",
     "evalue": "operands could not be broadcast together with shapes (4,) (3,) ",
     "output_type": "error",
     "traceback": [
      "\u001b[1;31m---------------------------------------------------------------------------\u001b[0m",
      "\u001b[1;31mValueError\u001b[0m                                Traceback (most recent call last)",
      "Cell \u001b[1;32mIn[32], line 4\u001b[0m\n\u001b[0;32m      2\u001b[0m vec1 \u001b[38;5;241m=\u001b[39m np\u001b[38;5;241m.\u001b[39mlinspace(\u001b[38;5;241m20\u001b[39m,\u001b[38;5;241m50\u001b[39m,\u001b[38;5;241m4\u001b[39m)\n\u001b[0;32m      3\u001b[0m vec2 \u001b[38;5;241m=\u001b[39m np\u001b[38;5;241m.\u001b[39mlinspace(\u001b[38;5;241m100\u001b[39m,\u001b[38;5;241m120\u001b[39m,\u001b[38;5;241m3\u001b[39m)\n\u001b[1;32m----> 4\u001b[0m \u001b[38;5;28mprint\u001b[39m(vec1 \u001b[38;5;241m+\u001b[39m vec2)\n",
      "\u001b[1;31mValueError\u001b[0m: operands could not be broadcast together with shapes (4,) (3,) "
     ]
    }
   ],
   "source": [
    "# questions\n",
    "vec1 = np.linspace(20,50,4)\n",
    "vec2 = np.linspace(100,120,3)\n",
    "print(vec1 + vec2)"
   ]
  },
  {
   "cell_type": "code",
   "execution_count": 33,
   "id": "51245514-9e8a-4a92-ad3b-9fb1326ffaa2",
   "metadata": {},
   "outputs": [
    {
     "name": "stdout",
     "output_type": "stream",
     "text": [
      "[0.5        0.33333333 0.25      ]\n",
      "[ 4  9 16]\n"
     ]
    }
   ],
   "source": [
    "#question\n",
    "vec = np.arange(2,5,1)\n",
    "print(1/vec)\n",
    "print(vec**2)"
   ]
  },
  {
   "cell_type": "code",
   "execution_count": 34,
   "id": "2e96c3b8-2bb9-4364-b563-4863e69b4dfd",
   "metadata": {},
   "outputs": [
    {
     "name": "stdout",
     "output_type": "stream",
     "text": [
      "[[ 1. inf]\n",
      " [inf  4.]]\n"
     ]
    },
    {
     "name": "stderr",
     "output_type": "stream",
     "text": [
      "C:\\Users\\hp\\AppData\\Local\\Temp\\ipykernel_1148\\3306162440.py:3: RuntimeWarning: divide by zero encountered in divide\n",
      "  print(mat1/mat2)\n"
     ]
    }
   ],
   "source": [
    "mat1 = np.arange(1,5).reshape(2,2)\n",
    "mat2 = np.eye(2)\n",
    "print(mat1/mat2)"
   ]
  },
  {
   "cell_type": "code",
   "execution_count": 36,
   "id": "442ee453-c3be-4630-a1be-f4eaeba9790f",
   "metadata": {},
   "outputs": [
    {
     "name": "stdout",
     "output_type": "stream",
     "text": [
      "-9\n",
      "-1\n"
     ]
    }
   ],
   "source": [
    "##question\n",
    "mat1 = np.arange(-9,0,1).reshape(3,3)\n",
    "print(np.min(mat1))\n",
    "print(np.max(mat1))"
   ]
  },
  {
   "cell_type": "code",
   "execution_count": 37,
   "id": "e30b1799-d6bf-4dd4-a37a-7dfe04f5272a",
   "metadata": {},
   "outputs": [
    {
     "name": "stdout",
     "output_type": "stream",
     "text": [
      "5\n"
     ]
    }
   ],
   "source": [
    "#question\n",
    "matrix = np.array([[1,2,3],[4,5,6],[7,8,9]])\n",
    "print(matrix[1][1])"
   ]
  },
  {
   "cell_type": "code",
   "execution_count": 38,
   "id": "cde3083e-394e-47cd-b6a1-03c63a24f287",
   "metadata": {},
   "outputs": [
    {
     "name": "stdout",
     "output_type": "stream",
     "text": [
      "[ 7  8  9 10]\n"
     ]
    }
   ],
   "source": [
    "#question\n",
    "vec = np.array([4,7,8,9,10,6,1])\n",
    "print(vec[vec>6])"
   ]
  },
  {
   "cell_type": "code",
   "execution_count": 39,
   "id": "9ab1b664-2ec6-411e-9356-dd73802183bd",
   "metadata": {},
   "outputs": [
    {
     "name": "stdout",
     "output_type": "stream",
     "text": [
      "[4 2 2 2 2 6 1]\n"
     ]
    }
   ],
   "source": [
    "#question\n",
    "vec1 = np.array([4, 7, 8, 9, 10, 6, 1])\n",
    "vec1[vec1>6] = 2\n",
    "print(vec1)"
   ]
  },
  {
   "cell_type": "code",
   "execution_count": 48,
   "id": "74492710-5db0-4b8f-87f8-cc39d1f00f2d",
   "metadata": {},
   "outputs": [],
   "source": [
    "rand_mat3 = np.random.rand(5,5)"
   ]
  },
  {
   "cell_type": "code",
   "execution_count": 49,
   "id": "8d56bfcd-c53f-4aca-a8ed-64205dc8fc81",
   "metadata": {},
   "outputs": [
    {
     "name": "stdout",
     "output_type": "stream",
     "text": [
      "[[0.77178005 0.97692185 0.63815668 0.71198379 0.42475878]\n",
      " [0.94910873 0.0759117  0.5255609  0.41966618 0.74953645]\n",
      " [0.97777261 0.27779034 0.94188919 0.59681445 0.738663  ]\n",
      " [0.31261826 0.52705625 0.00573412 0.98784392 0.22370631]\n",
      " [0.27941967 0.34393132 0.97165276 0.72766744 0.977263  ]]\n"
     ]
    }
   ],
   "source": [
    "print(rand_mat3)"
   ]
  },
  {
   "cell_type": "code",
   "execution_count": 50,
   "id": "24dccc82-e226-4a06-9569-de062f7fca2e",
   "metadata": {},
   "outputs": [
    {
     "name": "stdout",
     "output_type": "stream",
     "text": [
      "matrix before modification: \n",
      " [[0.77178005 0.97692185 0.63815668 0.71198379 0.42475878]\n",
      " [0.94910873 0.0759117  0.5255609  0.41966618 0.74953645]\n",
      " [0.97777261 0.27779034 0.94188919 0.59681445 0.738663  ]\n",
      " [0.31261826 0.52705625 0.00573412 0.98784392 0.22370631]\n",
      " [0.27941967 0.34393132 0.97165276 0.72766744 0.977263  ]]\n",
      "matrix after modification: \n",
      " [[0.77178005 0.97692185 0.63815668 0.71198379 0.42475878]\n",
      " [0.94910873 0.0759117  0.5255609  0.         0.        ]\n",
      " [0.97777261 0.27779034 0.94188919 0.         0.        ]\n",
      " [0.31261826 0.52705625 0.00573412 0.98784392 0.22370631]\n",
      " [0.27941967 0.34393132 0.97165276 0.72766744 0.977263  ]]\n"
     ]
    }
   ],
   "source": [
    "print('matrix before modification: \\n',rand_mat3)\n",
    "rand_mat3[1:3,3:5] = 0\n",
    "print('matrix after modification: \\n',rand_mat3)"
   ]
  },
  {
   "cell_type": "code",
   "execution_count": 52,
   "id": "12b6f7fe-922d-4a4a-be35-48c37702d330",
   "metadata": {},
   "outputs": [
    {
     "name": "stdout",
     "output_type": "stream",
     "text": [
      "[[0.77178005 0.97692185 0.63815668]\n",
      " [0.94910873 0.0759117  0.5255609 ]]\n"
     ]
    }
   ],
   "source": [
    "sub_mat = rand_mat3[0:2,0:3]\n",
    "print(sub_mat)"
   ]
  },
  {
   "cell_type": "code",
   "execution_count": 53,
   "id": "78b4f59a-01e6-4edb-8b27-5c807c198bbf",
   "metadata": {},
   "outputs": [
    {
     "name": "stdout",
     "output_type": "stream",
     "text": [
      "[[3. 3. 3.]\n",
      " [3. 3. 3.]]\n"
     ]
    }
   ],
   "source": [
    "sub_mat[:] = 3\n",
    "print(sub_mat)"
   ]
  },
  {
   "cell_type": "code",
   "execution_count": 54,
   "id": "e73d22f8-3b0f-48da-b375-c40032f381fe",
   "metadata": {},
   "outputs": [
    {
     "data": {
      "text/plain": [
       "array([[3.        , 3.        , 3.        , 0.71198379, 0.42475878],\n",
       "       [3.        , 3.        , 3.        , 0.        , 0.        ],\n",
       "       [0.97777261, 0.27779034, 0.94188919, 0.        , 0.        ],\n",
       "       [0.31261826, 0.52705625, 0.00573412, 0.98784392, 0.22370631],\n",
       "       [0.27941967, 0.34393132, 0.97165276, 0.72766744, 0.977263  ]])"
      ]
     },
     "execution_count": 54,
     "metadata": {},
     "output_type": "execute_result"
    }
   ],
   "source": [
    "rand_mat3"
   ]
  },
  {
   "cell_type": "code",
   "execution_count": 55,
   "id": "e8a6d86b-430e-402a-ba18-3be819fa312f",
   "metadata": {},
   "outputs": [
    {
     "name": "stdout",
     "output_type": "stream",
     "text": [
      "[[-0.11555409 -0.30802722  0.10827828  1.85248801  1.11773806]\n",
      " [-1.05365555 -1.11038125  0.82941843  0.20858988 -1.03596245]\n",
      " [-0.95784416 -1.08310724 -0.79915293  0.55650475 -0.78049821]\n",
      " [-0.65041138 -1.77235631 -0.17736175 -0.37619216  0.16453222]\n",
      " [ 0.96745166 -0.14336118 -1.38600867  0.73825185 -0.63362734]]\n",
      "[[3. 3. 3.]\n",
      " [3. 3. 3.]]\n",
      "[[-0.11555409 -0.30802722  0.10827828  1.85248801  1.11773806]\n",
      " [-1.05365555 -1.11038125  0.82941843  0.20858988 -1.03596245]\n",
      " [-0.95784416 -1.08310724 -0.79915293  0.55650475 -0.78049821]\n",
      " [-0.65041138 -1.77235631 -0.17736175 -0.37619216  0.16453222]\n",
      " [ 0.96745166 -0.14336118 -1.38600867  0.73825185 -0.63362734]]\n"
     ]
    }
   ],
   "source": [
    "rand_mat = np.random.randn(5,5)\n",
    "print(rand_mat)\n",
    "sub_mat = rand_mat[0:2,0:3].copy()\n",
    "sub_mat[:] = 3\n",
    "print(sub_mat)\n",
    "print(rand_mat)"
   ]
  },
  {
   "cell_type": "code",
   "execution_count": 56,
   "id": "da5e9d17-5baa-4e63-a3ee-e7bb61155229",
   "metadata": {},
   "outputs": [
    {
     "name": "stdout",
     "output_type": "stream",
     "text": [
      "[[1 0 3]\n",
      " [4 0 6]\n",
      " [7 8 9]]\n"
     ]
    }
   ],
   "source": [
    "#question\n",
    "matrix = np.arange(1,10).reshape(3,3)\n",
    "matrix[0:2,1:2] = 0\n",
    "print(matrix)"
   ]
  },
  {
   "cell_type": "code",
   "execution_count": 57,
   "id": "c571b59c-1cea-4d1e-a34c-c2eb2a3137e4",
   "metadata": {},
   "outputs": [],
   "source": [
    "array1 = np.array([[1,2,3],[4,5,6],[7,8,9]])\n",
    "array2 = array1"
   ]
  },
  {
   "cell_type": "code",
   "execution_count": null,
   "id": "4019dc9a-2c24-4f58-9222-e90075623e41",
   "metadata": {},
   "outputs": [],
   "source": []
  }
 ],
 "metadata": {
  "kernelspec": {
   "display_name": "Python 3 (ipykernel)",
   "language": "python",
   "name": "python3"
  },
  "language_info": {
   "codemirror_mode": {
    "name": "ipython",
    "version": 3
   },
   "file_extension": ".py",
   "mimetype": "text/x-python",
   "name": "python",
   "nbconvert_exporter": "python",
   "pygments_lexer": "ipython3",
   "version": "3.11.5"
  }
 },
 "nbformat": 4,
 "nbformat_minor": 5
}
