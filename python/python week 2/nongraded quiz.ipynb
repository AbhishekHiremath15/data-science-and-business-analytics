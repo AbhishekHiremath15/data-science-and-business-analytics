{
 "cells": [
  {
   "cell_type": "code",
   "execution_count": 20,
   "id": "2d47f572-1177-4dc8-974c-6edda9814f74",
   "metadata": {},
   "outputs": [
    {
     "data": {
      "text/plain": [
       "9"
      ]
     },
     "execution_count": 20,
     "metadata": {},
     "output_type": "execute_result"
    }
   ],
   "source": [
    "demo_array=np.arange(0,10) \n",
    "demo_array <3\n",
    "demo_array[demo_array <6]\n",
    "np.max(demo_array)"
   ]
  },
  {
   "cell_type": "code",
   "execution_count": 22,
   "id": "b7b89886-9ffa-4567-b617-bc6de19d3696",
   "metadata": {},
   "outputs": [
    {
     "data": {
      "text/plain": [
       "array([[35, 74],\n",
       "       [37, 37],\n",
       "       [39, 93]])"
      ]
     },
     "execution_count": 22,
     "metadata": {},
     "output_type": "execute_result"
    }
   ],
   "source": [
    "demo_matrix = np.array(([13,35,74,48], [23,37,37,38],[73,39,93,39]))\n",
    "demo_matrix[:, (1,2)]"
   ]
  },
  {
   "cell_type": "code",
   "execution_count": 23,
   "id": "fdb0b478-d6b7-457b-845b-0d4ed12436d6",
   "metadata": {},
   "outputs": [
    {
     "data": {
      "text/plain": [
       "array([101, 101, 101, 101, 101, 101, 101])"
      ]
     },
     "execution_count": 23,
     "metadata": {},
     "output_type": "execute_result"
    }
   ],
   "source": [
    "demo_array = np.arange(10,21)\n",
    "\n",
    "##What is the output of the following lines?\n",
    "\n",
    "subset_demo_array = demo_array[0:7]\n",
    "\n",
    "subset_demo_array[:]= 101\n",
    "\n",
    "subset_demo_array"
   ]
  },
  {
   "cell_type": "code",
   "execution_count": null,
   "id": "eefe464b-6659-4aaf-9681-30e80c45b9cd",
   "metadata": {},
   "outputs": [],
   "source": []
  },
  {
   "cell_type": "code",
   "execution_count": null,
   "id": "718f9260-b16c-411e-ad45-978b4452ef64",
   "metadata": {},
   "outputs": [],
   "source": []
  },
  {
   "cell_type": "code",
   "execution_count": null,
   "id": "2b4ad8c4-b338-4726-9a4e-8fc3715b5522",
   "metadata": {},
   "outputs": [],
   "source": []
  },
  {
   "cell_type": "code",
   "execution_count": null,
   "id": "22970dba-b42e-4713-9927-044b509b8408",
   "metadata": {},
   "outputs": [],
   "source": []
  },
  {
   "cell_type": "code",
   "execution_count": null,
   "id": "0be7221c-ded5-4c2d-ae32-e04cc198869b",
   "metadata": {},
   "outputs": [],
   "source": []
  },
  {
   "cell_type": "code",
   "execution_count": null,
   "id": "6ddfa807-3b94-4217-85e3-9cda9b8f5cbb",
   "metadata": {},
   "outputs": [],
   "source": []
  },
  {
   "cell_type": "code",
   "execution_count": null,
   "id": "b516196b-f9ef-4c37-bbe3-dbb5b9506e0c",
   "metadata": {},
   "outputs": [],
   "source": []
  },
  {
   "cell_type": "code",
   "execution_count": 1,
   "id": "34bf1642-6432-4a7b-a1df-748f52f3c02e",
   "metadata": {},
   "outputs": [],
   "source": [
    "import numpy as np\n",
    "import pandas as pd"
   ]
  },
  {
   "cell_type": "code",
   "execution_count": 26,
   "id": "538b0003-99f5-4605-9109-ea55a34faef1",
   "metadata": {},
   "outputs": [],
   "source": [
    "df = pd.read_excel('Downloads/GDP_Dataset.xlsx')"
   ]
  },
  {
   "cell_type": "code",
   "execution_count": 13,
   "id": "0ac4e2c2-5559-404d-be02-a93519794347",
   "metadata": {},
   "outputs": [
    {
     "data": {
      "text/html": [
       "<div>\n",
       "<style scoped>\n",
       "    .dataframe tbody tr th:only-of-type {\n",
       "        vertical-align: middle;\n",
       "    }\n",
       "\n",
       "    .dataframe tbody tr th {\n",
       "        vertical-align: top;\n",
       "    }\n",
       "\n",
       "    .dataframe thead th {\n",
       "        text-align: right;\n",
       "    }\n",
       "</style>\n",
       "<table border=\"1\" class=\"dataframe\">\n",
       "  <thead>\n",
       "    <tr style=\"text-align: right;\">\n",
       "      <th></th>\n",
       "      <th>S.No</th>\n",
       "      <th>Country</th>\n",
       "      <th>Population</th>\n",
       "      <th>Yearly_Change</th>\n",
       "      <th>Land_Area</th>\n",
       "      <th>Population_Density</th>\n",
       "      <th>Migrants_Net</th>\n",
       "      <th>Median_Age</th>\n",
       "      <th>Urban_Population</th>\n",
       "      <th>World_Share_in_Population</th>\n",
       "      <th>GDP</th>\n",
       "      <th>GDP_per_Capita</th>\n",
       "      <th>Share_of_World_GDP</th>\n",
       "      <th>Status</th>\n",
       "    </tr>\n",
       "  </thead>\n",
       "  <tbody>\n",
       "    <tr>\n",
       "      <th>0</th>\n",
       "      <td>1</td>\n",
       "      <td>China</td>\n",
       "      <td>1421021791</td>\n",
       "      <td>0.39</td>\n",
       "      <td>9388211</td>\n",
       "      <td>151.362362</td>\n",
       "      <td>-348399</td>\n",
       "      <td>38</td>\n",
       "      <td>61.0</td>\n",
       "      <td>18.47</td>\n",
       "      <td>12238.0</td>\n",
       "      <td>8.612113</td>\n",
       "      <td>15.12</td>\n",
       "      <td>Developing</td>\n",
       "    </tr>\n",
       "    <tr>\n",
       "      <th>1</th>\n",
       "      <td>2</td>\n",
       "      <td>India</td>\n",
       "      <td>1338676785</td>\n",
       "      <td>0.99</td>\n",
       "      <td>2973190</td>\n",
       "      <td>450.249323</td>\n",
       "      <td>-532687</td>\n",
       "      <td>28</td>\n",
       "      <td>35.0</td>\n",
       "      <td>17.70</td>\n",
       "      <td>2651.0</td>\n",
       "      <td>1.980314</td>\n",
       "      <td>3.28</td>\n",
       "      <td>Developing</td>\n",
       "    </tr>\n",
       "    <tr>\n",
       "      <th>2</th>\n",
       "      <td>3</td>\n",
       "      <td>United States</td>\n",
       "      <td>325084756</td>\n",
       "      <td>0.59</td>\n",
       "      <td>9147420</td>\n",
       "      <td>35.538409</td>\n",
       "      <td>954806</td>\n",
       "      <td>38</td>\n",
       "      <td>83.0</td>\n",
       "      <td>4.25</td>\n",
       "      <td>19485.0</td>\n",
       "      <td>59.938215</td>\n",
       "      <td>24.08</td>\n",
       "      <td>Developed</td>\n",
       "    </tr>\n",
       "    <tr>\n",
       "      <th>3</th>\n",
       "      <td>4</td>\n",
       "      <td>Indonesia</td>\n",
       "      <td>264650963</td>\n",
       "      <td>1.07</td>\n",
       "      <td>1811570</td>\n",
       "      <td>146.089283</td>\n",
       "      <td>-98955</td>\n",
       "      <td>30</td>\n",
       "      <td>56.0</td>\n",
       "      <td>3.51</td>\n",
       "      <td>1015.0</td>\n",
       "      <td>3.835240</td>\n",
       "      <td>1.25</td>\n",
       "      <td>Developing</td>\n",
       "    </tr>\n",
       "    <tr>\n",
       "      <th>4</th>\n",
       "      <td>5</td>\n",
       "      <td>Pakistan</td>\n",
       "      <td>207906209</td>\n",
       "      <td>2.00</td>\n",
       "      <td>770880</td>\n",
       "      <td>269.699835</td>\n",
       "      <td>-233379</td>\n",
       "      <td>23</td>\n",
       "      <td>35.0</td>\n",
       "      <td>2.83</td>\n",
       "      <td>305.0</td>\n",
       "      <td>1.467008</td>\n",
       "      <td>0.38</td>\n",
       "      <td>Developing</td>\n",
       "    </tr>\n",
       "  </tbody>\n",
       "</table>\n",
       "</div>"
      ],
      "text/plain": [
       "   S.No        Country  Population  Yearly_Change  Land_Area  \\\n",
       "0     1          China  1421021791           0.39    9388211   \n",
       "1     2          India  1338676785           0.99    2973190   \n",
       "2     3  United States   325084756           0.59    9147420   \n",
       "3     4      Indonesia   264650963           1.07    1811570   \n",
       "4     5       Pakistan   207906209           2.00     770880   \n",
       "\n",
       "   Population_Density  Migrants_Net  Median_Age  Urban_Population  \\\n",
       "0          151.362362       -348399          38              61.0   \n",
       "1          450.249323       -532687          28              35.0   \n",
       "2           35.538409        954806          38              83.0   \n",
       "3          146.089283        -98955          30              56.0   \n",
       "4          269.699835       -233379          23              35.0   \n",
       "\n",
       "   World_Share_in_Population      GDP  GDP_per_Capita  Share_of_World_GDP  \\\n",
       "0                      18.47  12238.0        8.612113               15.12   \n",
       "1                      17.70   2651.0        1.980314                3.28   \n",
       "2                       4.25  19485.0       59.938215               24.08   \n",
       "3                       3.51   1015.0        3.835240                1.25   \n",
       "4                       2.83    305.0        1.467008                0.38   \n",
       "\n",
       "       Status  \n",
       "0  Developing  \n",
       "1  Developing  \n",
       "2   Developed  \n",
       "3  Developing  \n",
       "4  Developing  "
      ]
     },
     "execution_count": 13,
     "metadata": {},
     "output_type": "execute_result"
    }
   ],
   "source": [
    "df.head()"
   ]
  },
  {
   "cell_type": "code",
   "execution_count": 14,
   "id": "7885ead3-98ab-4332-a3e8-a86228270f07",
   "metadata": {},
   "outputs": [
    {
     "data": {
      "text/html": [
       "<div>\n",
       "<style scoped>\n",
       "    .dataframe tbody tr th:only-of-type {\n",
       "        vertical-align: middle;\n",
       "    }\n",
       "\n",
       "    .dataframe tbody tr th {\n",
       "        vertical-align: top;\n",
       "    }\n",
       "\n",
       "    .dataframe thead th {\n",
       "        text-align: right;\n",
       "    }\n",
       "</style>\n",
       "<table border=\"1\" class=\"dataframe\">\n",
       "  <thead>\n",
       "    <tr style=\"text-align: right;\">\n",
       "      <th></th>\n",
       "      <th>S.No</th>\n",
       "      <th>Country</th>\n",
       "      <th>Population</th>\n",
       "      <th>Yearly_Change</th>\n",
       "      <th>Land_Area</th>\n",
       "      <th>Population_Density</th>\n",
       "      <th>Migrants_Net</th>\n",
       "      <th>Median_Age</th>\n",
       "      <th>Urban_Population</th>\n",
       "      <th>World_Share_in_Population</th>\n",
       "      <th>GDP</th>\n",
       "      <th>GDP_per_Capita</th>\n",
       "      <th>Share_of_World_GDP</th>\n",
       "      <th>Status</th>\n",
       "    </tr>\n",
       "  </thead>\n",
       "  <tbody>\n",
       "    <tr>\n",
       "      <th>167</th>\n",
       "      <td>181</td>\n",
       "      <td>Vanuatu</td>\n",
       "      <td>77001</td>\n",
       "      <td>2.42</td>\n",
       "      <td>12190</td>\n",
       "      <td>6.316735</td>\n",
       "      <td>120</td>\n",
       "      <td>21</td>\n",
       "      <td>24.0</td>\n",
       "      <td>0.0</td>\n",
       "      <td>0.863</td>\n",
       "      <td>11.207647</td>\n",
       "      <td>0.00</td>\n",
       "      <td>Developing</td>\n",
       "    </tr>\n",
       "    <tr>\n",
       "      <th>168</th>\n",
       "      <td>183</td>\n",
       "      <td>Barbados</td>\n",
       "      <td>58058</td>\n",
       "      <td>0.12</td>\n",
       "      <td>430</td>\n",
       "      <td>135.018605</td>\n",
       "      <td>-79</td>\n",
       "      <td>40</td>\n",
       "      <td>31.0</td>\n",
       "      <td>0.0</td>\n",
       "      <td>4.670</td>\n",
       "      <td>80.436805</td>\n",
       "      <td>0.01</td>\n",
       "      <td>Developing</td>\n",
       "    </tr>\n",
       "    <tr>\n",
       "      <th>169</th>\n",
       "      <td>187</td>\n",
       "      <td>Sao Tome &amp; Principe</td>\n",
       "      <td>33671</td>\n",
       "      <td>1.91</td>\n",
       "      <td>960</td>\n",
       "      <td>35.073958</td>\n",
       "      <td>-1680</td>\n",
       "      <td>19</td>\n",
       "      <td>74.0</td>\n",
       "      <td>0.0</td>\n",
       "      <td>0.393</td>\n",
       "      <td>11.671765</td>\n",
       "      <td>0.00</td>\n",
       "      <td>Developing</td>\n",
       "    </tr>\n",
       "    <tr>\n",
       "      <th>170</th>\n",
       "      <td>188</td>\n",
       "      <td>Samoa</td>\n",
       "      <td>17808</td>\n",
       "      <td>0.67</td>\n",
       "      <td>2830</td>\n",
       "      <td>6.292580</td>\n",
       "      <td>-2803</td>\n",
       "      <td>22</td>\n",
       "      <td>18.0</td>\n",
       "      <td>0.0</td>\n",
       "      <td>0.841</td>\n",
       "      <td>47.225966</td>\n",
       "      <td>0.00</td>\n",
       "      <td>Developing</td>\n",
       "    </tr>\n",
       "    <tr>\n",
       "      <th>171</th>\n",
       "      <td>189</td>\n",
       "      <td>Saint Lucia</td>\n",
       "      <td>11370</td>\n",
       "      <td>0.46</td>\n",
       "      <td>610</td>\n",
       "      <td>18.639344</td>\n",
       "      <td>0</td>\n",
       "      <td>34</td>\n",
       "      <td>19.0</td>\n",
       "      <td>0.0</td>\n",
       "      <td>1.740</td>\n",
       "      <td>153.034301</td>\n",
       "      <td>0.00</td>\n",
       "      <td>Developing</td>\n",
       "    </tr>\n",
       "  </tbody>\n",
       "</table>\n",
       "</div>"
      ],
      "text/plain": [
       "     S.No              Country  Population  Yearly_Change  Land_Area  \\\n",
       "167   181              Vanuatu       77001           2.42      12190   \n",
       "168   183             Barbados       58058           0.12        430   \n",
       "169   187  Sao Tome & Principe       33671           1.91        960   \n",
       "170   188                Samoa       17808           0.67       2830   \n",
       "171   189          Saint Lucia       11370           0.46        610   \n",
       "\n",
       "     Population_Density  Migrants_Net  Median_Age  Urban_Population  \\\n",
       "167            6.316735           120          21              24.0   \n",
       "168          135.018605           -79          40              31.0   \n",
       "169           35.073958         -1680          19              74.0   \n",
       "170            6.292580         -2803          22              18.0   \n",
       "171           18.639344             0          34              19.0   \n",
       "\n",
       "     World_Share_in_Population    GDP  GDP_per_Capita  Share_of_World_GDP  \\\n",
       "167                        0.0  0.863       11.207647                0.00   \n",
       "168                        0.0  4.670       80.436805                0.01   \n",
       "169                        0.0  0.393       11.671765                0.00   \n",
       "170                        0.0  0.841       47.225966                0.00   \n",
       "171                        0.0  1.740      153.034301                0.00   \n",
       "\n",
       "         Status  \n",
       "167  Developing  \n",
       "168  Developing  \n",
       "169  Developing  \n",
       "170  Developing  \n",
       "171  Developing  "
      ]
     },
     "execution_count": 14,
     "metadata": {},
     "output_type": "execute_result"
    }
   ],
   "source": [
    "df.tail()"
   ]
  },
  {
   "cell_type": "code",
   "execution_count": 16,
   "id": "0802dd3a-0ff9-4d1f-899e-18760e759f40",
   "metadata": {},
   "outputs": [
    {
     "data": {
      "text/plain": [
       "(172, 14)"
      ]
     },
     "execution_count": 16,
     "metadata": {},
     "output_type": "execute_result"
    }
   ],
   "source": [
    "df.shape"
   ]
  },
  {
   "cell_type": "code",
   "execution_count": 18,
   "id": "9b3e8c01-822c-4b6e-9f39-b26846ee18fa",
   "metadata": {},
   "outputs": [
    {
     "name": "stdout",
     "output_type": "stream",
     "text": [
      "<class 'pandas.core.frame.DataFrame'>\n",
      "RangeIndex: 172 entries, 0 to 171\n",
      "Data columns (total 14 columns):\n",
      " #   Column                     Non-Null Count  Dtype  \n",
      "---  ------                     --------------  -----  \n",
      " 0   S.No                       172 non-null    int64  \n",
      " 1   Country                    172 non-null    object \n",
      " 2   Population                 172 non-null    int64  \n",
      " 3   Yearly_Change              172 non-null    float64\n",
      " 4   Land_Area                  172 non-null    int64  \n",
      " 5   Population_Density         172 non-null    float64\n",
      " 6   Migrants_Net               172 non-null    int64  \n",
      " 7   Median_Age                 172 non-null    int64  \n",
      " 8   Urban_Population           168 non-null    float64\n",
      " 9   World_Share_in_Population  172 non-null    float64\n",
      " 10  GDP                        172 non-null    float64\n",
      " 11  GDP_per_Capita             172 non-null    float64\n",
      " 12  Share_of_World_GDP         172 non-null    float64\n",
      " 13  Status                     172 non-null    object \n",
      "dtypes: float64(7), int64(5), object(2)\n",
      "memory usage: 18.9+ KB\n"
     ]
    }
   ],
   "source": [
    "df.info()"
   ]
  },
  {
   "cell_type": "code",
   "execution_count": 30,
   "id": "2878878d-e683-4f95-b745-cce8649a5cfa",
   "metadata": {},
   "outputs": [
    {
     "data": {
      "text/plain": [
       "138"
      ]
     },
     "execution_count": 30,
     "metadata": {},
     "output_type": "execute_result"
    }
   ],
   "source": [
    "df = pd.read_excel('Downloads/GDP_Dataset.xlsx')\n",
    "df[df['Status'] == 'Developing'].shape[0]"
   ]
  },
  {
   "cell_type": "code",
   "execution_count": 31,
   "id": "ba204657-db11-4ac0-be05-f4d71fcd188c",
   "metadata": {},
   "outputs": [
    {
     "data": {
      "text/plain": [
       "34"
      ]
     },
     "execution_count": 31,
     "metadata": {},
     "output_type": "execute_result"
    }
   ],
   "source": [
    "df = pd.read_excel('Downloads/GDP_Dataset.xlsx')\n",
    "df[df['Status'] == 'Developed'].shape[0]"
   ]
  },
  {
   "cell_type": "code",
   "execution_count": 40,
   "id": "94c05845-85fb-4a87-9d20-9a96fe5bb4b8",
   "metadata": {},
   "outputs": [
    {
     "name": "stdout",
     "output_type": "stream",
     "text": [
      "7305446192\n"
     ]
    }
   ],
   "source": [
    "df = pd.read_excel('Downloads/GDP_Dataset.xlsx')\n",
    "df2 = df['Population'].sum()\n",
    "print(df2)"
   ]
  },
  {
   "cell_type": "code",
   "execution_count": 38,
   "id": "452e50fd-f8ea-4404-81f7-f6c3da7f2404",
   "metadata": {},
   "outputs": [
    {
     "data": {
      "text/plain": [
       "'Japan'"
      ]
     },
     "execution_count": 38,
     "metadata": {},
     "output_type": "execute_result"
    }
   ],
   "source": [
    "df = pd.read_excel('Downloads/GDP_Dataset.xlsx')\n",
    "df.loc[df['Median_Age'].idxmax()]['Country']\n",
    "       "
   ]
  },
  {
   "cell_type": "code",
   "execution_count": 48,
   "id": "6d06013f-f0b9-465e-a9d3-0c794ca7e2c3",
   "metadata": {},
   "outputs": [
    {
     "name": "stdout",
     "output_type": "stream",
     "text": [
      "0      0.000004\n",
      "1      0.000003\n",
      "2      0.000026\n",
      "3      0.000021\n",
      "4      0.000017\n",
      "         ...   \n",
      "167    0.031168\n",
      "168    0.053395\n",
      "169    0.219774\n",
      "170    0.101078\n",
      "171    0.167106\n",
      "Name: Urban_Percentage, Length: 172, dtype: float64\n"
     ]
    }
   ],
   "source": [
    "df = pd.read_excel('Downloads/GDP_Dataset.xlsx')\n",
    "df['Urban_Percentage'] = df['Urban_Population'] = (df['Urban_Population']/df['Population'])*100\n",
    "print(df['Urban_Percentage'])"
   ]
  },
  {
   "cell_type": "code",
   "execution_count": 50,
   "id": "348cfd24-cc83-4f17-a76f-a2b2bf160016",
   "metadata": {},
   "outputs": [
    {
     "ename": "KeyError",
     "evalue": "'Urban_Percentage'",
     "output_type": "error",
     "traceback": [
      "\u001b[1;31m---------------------------------------------------------------------------\u001b[0m",
      "\u001b[1;31mKeyError\u001b[0m                                  Traceback (most recent call last)",
      "File \u001b[1;32m~\\anaconda3\\Lib\\site-packages\\pandas\\core\\indexes\\base.py:3791\u001b[0m, in \u001b[0;36mIndex.get_loc\u001b[1;34m(self, key)\u001b[0m\n\u001b[0;32m   3790\u001b[0m \u001b[38;5;28;01mtry\u001b[39;00m:\n\u001b[1;32m-> 3791\u001b[0m     \u001b[38;5;28;01mreturn\u001b[39;00m \u001b[38;5;28mself\u001b[39m\u001b[38;5;241m.\u001b[39m_engine\u001b[38;5;241m.\u001b[39mget_loc(casted_key)\n\u001b[0;32m   3792\u001b[0m \u001b[38;5;28;01mexcept\u001b[39;00m \u001b[38;5;167;01mKeyError\u001b[39;00m \u001b[38;5;28;01mas\u001b[39;00m err:\n",
      "File \u001b[1;32mindex.pyx:152\u001b[0m, in \u001b[0;36mpandas._libs.index.IndexEngine.get_loc\u001b[1;34m()\u001b[0m\n",
      "File \u001b[1;32mindex.pyx:181\u001b[0m, in \u001b[0;36mpandas._libs.index.IndexEngine.get_loc\u001b[1;34m()\u001b[0m\n",
      "File \u001b[1;32mpandas\\_libs\\hashtable_class_helper.pxi:7080\u001b[0m, in \u001b[0;36mpandas._libs.hashtable.PyObjectHashTable.get_item\u001b[1;34m()\u001b[0m\n",
      "File \u001b[1;32mpandas\\_libs\\hashtable_class_helper.pxi:7088\u001b[0m, in \u001b[0;36mpandas._libs.hashtable.PyObjectHashTable.get_item\u001b[1;34m()\u001b[0m\n",
      "\u001b[1;31mKeyError\u001b[0m: 'Urban_Percentage'",
      "\nThe above exception was the direct cause of the following exception:\n",
      "\u001b[1;31mKeyError\u001b[0m                                  Traceback (most recent call last)",
      "Cell \u001b[1;32mIn[50], line 2\u001b[0m\n\u001b[0;32m      1\u001b[0m df \u001b[38;5;241m=\u001b[39m pd\u001b[38;5;241m.\u001b[39mread_excel(\u001b[38;5;124m'\u001b[39m\u001b[38;5;124mDownloads/GDP_Dataset.xlsx\u001b[39m\u001b[38;5;124m'\u001b[39m)\n\u001b[1;32m----> 2\u001b[0m df[df[\u001b[38;5;124m'\u001b[39m\u001b[38;5;124mUrban_Percentage\u001b[39m\u001b[38;5;124m'\u001b[39m]\u001b[38;5;241m>\u001b[39m\u001b[38;5;241m90\u001b[39m]\u001b[38;5;241m.\u001b[39mshape[\u001b[38;5;241m0\u001b[39m]\n",
      "File \u001b[1;32m~\\anaconda3\\Lib\\site-packages\\pandas\\core\\frame.py:3893\u001b[0m, in \u001b[0;36mDataFrame.__getitem__\u001b[1;34m(self, key)\u001b[0m\n\u001b[0;32m   3891\u001b[0m \u001b[38;5;28;01mif\u001b[39;00m \u001b[38;5;28mself\u001b[39m\u001b[38;5;241m.\u001b[39mcolumns\u001b[38;5;241m.\u001b[39mnlevels \u001b[38;5;241m>\u001b[39m \u001b[38;5;241m1\u001b[39m:\n\u001b[0;32m   3892\u001b[0m     \u001b[38;5;28;01mreturn\u001b[39;00m \u001b[38;5;28mself\u001b[39m\u001b[38;5;241m.\u001b[39m_getitem_multilevel(key)\n\u001b[1;32m-> 3893\u001b[0m indexer \u001b[38;5;241m=\u001b[39m \u001b[38;5;28mself\u001b[39m\u001b[38;5;241m.\u001b[39mcolumns\u001b[38;5;241m.\u001b[39mget_loc(key)\n\u001b[0;32m   3894\u001b[0m \u001b[38;5;28;01mif\u001b[39;00m is_integer(indexer):\n\u001b[0;32m   3895\u001b[0m     indexer \u001b[38;5;241m=\u001b[39m [indexer]\n",
      "File \u001b[1;32m~\\anaconda3\\Lib\\site-packages\\pandas\\core\\indexes\\base.py:3798\u001b[0m, in \u001b[0;36mIndex.get_loc\u001b[1;34m(self, key)\u001b[0m\n\u001b[0;32m   3793\u001b[0m     \u001b[38;5;28;01mif\u001b[39;00m \u001b[38;5;28misinstance\u001b[39m(casted_key, \u001b[38;5;28mslice\u001b[39m) \u001b[38;5;129;01mor\u001b[39;00m (\n\u001b[0;32m   3794\u001b[0m         \u001b[38;5;28misinstance\u001b[39m(casted_key, abc\u001b[38;5;241m.\u001b[39mIterable)\n\u001b[0;32m   3795\u001b[0m         \u001b[38;5;129;01mand\u001b[39;00m \u001b[38;5;28many\u001b[39m(\u001b[38;5;28misinstance\u001b[39m(x, \u001b[38;5;28mslice\u001b[39m) \u001b[38;5;28;01mfor\u001b[39;00m x \u001b[38;5;129;01min\u001b[39;00m casted_key)\n\u001b[0;32m   3796\u001b[0m     ):\n\u001b[0;32m   3797\u001b[0m         \u001b[38;5;28;01mraise\u001b[39;00m InvalidIndexError(key)\n\u001b[1;32m-> 3798\u001b[0m     \u001b[38;5;28;01mraise\u001b[39;00m \u001b[38;5;167;01mKeyError\u001b[39;00m(key) \u001b[38;5;28;01mfrom\u001b[39;00m \u001b[38;5;21;01merr\u001b[39;00m\n\u001b[0;32m   3799\u001b[0m \u001b[38;5;28;01mexcept\u001b[39;00m \u001b[38;5;167;01mTypeError\u001b[39;00m:\n\u001b[0;32m   3800\u001b[0m     \u001b[38;5;66;03m# If we have a listlike key, _check_indexing_error will raise\u001b[39;00m\n\u001b[0;32m   3801\u001b[0m     \u001b[38;5;66;03m#  InvalidIndexError. Otherwise we fall through and re-raise\u001b[39;00m\n\u001b[0;32m   3802\u001b[0m     \u001b[38;5;66;03m#  the TypeError.\u001b[39;00m\n\u001b[0;32m   3803\u001b[0m     \u001b[38;5;28mself\u001b[39m\u001b[38;5;241m.\u001b[39m_check_indexing_error(key)\n",
      "\u001b[1;31mKeyError\u001b[0m: 'Urban_Percentage'"
     ]
    }
   ],
   "source": [
    "\n",
    "df[df['Urban_Percentage']>90].shape[0]"
   ]
  },
  {
   "cell_type": "code",
   "execution_count": 53,
   "id": "20952211-623d-4420-aab5-a768abd3f8fa",
   "metadata": {},
   "outputs": [],
   "source": [
    "df = pd.read_excel('Downloads/GDP_Dataset.xlsx')\n",
    "df['Population_Density'] = df['Population']/df['Land_Area']"
   ]
  },
  {
   "cell_type": "code",
   "execution_count": 55,
   "id": "2f4a5df4-01cc-4efa-bf8d-35e2c88138fa",
   "metadata": {},
   "outputs": [
    {
     "name": "stdout",
     "output_type": "stream",
     "text": [
      "0      151.362362\n",
      "1      450.249323\n",
      "2       35.538409\n",
      "3      146.089283\n",
      "4      269.699835\n",
      "          ...    \n",
      "167      6.316735\n",
      "168    135.018605\n",
      "169     35.073958\n",
      "170      6.292580\n",
      "171     18.639344\n",
      "Name: Population_Density, Length: 172, dtype: float64\n"
     ]
    }
   ],
   "source": [
    "print(df['Population_Density'])"
   ]
  },
  {
   "cell_type": "code",
   "execution_count": 56,
   "id": "3370b6a4-4878-4185-82ed-df1ce422485c",
   "metadata": {},
   "outputs": [
    {
     "data": {
      "text/html": [
       "<div>\n",
       "<style scoped>\n",
       "    .dataframe tbody tr th:only-of-type {\n",
       "        vertical-align: middle;\n",
       "    }\n",
       "\n",
       "    .dataframe tbody tr th {\n",
       "        vertical-align: top;\n",
       "    }\n",
       "\n",
       "    .dataframe thead th {\n",
       "        text-align: right;\n",
       "    }\n",
       "</style>\n",
       "<table border=\"1\" class=\"dataframe\">\n",
       "  <thead>\n",
       "    <tr style=\"text-align: right;\">\n",
       "      <th></th>\n",
       "      <th>Country</th>\n",
       "      <th>Population_Density</th>\n",
       "    </tr>\n",
       "  </thead>\n",
       "  <tbody>\n",
       "    <tr>\n",
       "      <th>156</th>\n",
       "      <td>Macao</td>\n",
       "      <td>11146.433333</td>\n",
       "    </tr>\n",
       "    <tr>\n",
       "      <th>107</th>\n",
       "      <td>Singapore</td>\n",
       "      <td>7071.362857</td>\n",
       "    </tr>\n",
       "    <tr>\n",
       "      <th>97</th>\n",
       "      <td>Hong Kong</td>\n",
       "      <td>6083.929524</td>\n",
       "    </tr>\n",
       "  </tbody>\n",
       "</table>\n",
       "</div>"
      ],
      "text/plain": [
       "       Country  Population_Density\n",
       "156      Macao        11146.433333\n",
       "107  Singapore         7071.362857\n",
       "97   Hong Kong         6083.929524"
      ]
     },
     "execution_count": 56,
     "metadata": {},
     "output_type": "execute_result"
    }
   ],
   "source": [
    "df.nlargest(3,'Population_Density')[['Country','Population_Density']]"
   ]
  },
  {
   "cell_type": "code",
   "execution_count": 57,
   "id": "fddac0bd-01fc-4971-bdb9-dde6d03f398c",
   "metadata": {},
   "outputs": [
    {
     "ename": "NameError",
     "evalue": "name 'India' is not defined",
     "output_type": "error",
     "traceback": [
      "\u001b[1;31m---------------------------------------------------------------------------\u001b[0m",
      "\u001b[1;31mNameError\u001b[0m                                 Traceback (most recent call last)",
      "Cell \u001b[1;32mIn[57], line 1\u001b[0m\n\u001b[1;32m----> 1\u001b[0m df[df[\u001b[38;5;124m'\u001b[39m\u001b[38;5;124mGDP\u001b[39m\u001b[38;5;124m'\u001b[39m] \u001b[38;5;241m>\u001b[39m India]\n",
      "\u001b[1;31mNameError\u001b[0m: name 'India' is not defined"
     ]
    }
   ],
   "source": [
    "df[df['GDP'] > India]"
   ]
  },
  {
   "cell_type": "code",
   "execution_count": 58,
   "id": "144f090b-2544-4da2-8e8f-34c5c29bf06d",
   "metadata": {},
   "outputs": [],
   "source": [
    "india_GDP = df[df['Country'] == 'India']['GDP'].values[0]"
   ]
  },
  {
   "cell_type": "code",
   "execution_count": 59,
   "id": "c41d8f1a-d8e5-4162-a1e4-c2bccd08f154",
   "metadata": {},
   "outputs": [
    {
     "data": {
      "text/plain": [
       "2651.0"
      ]
     },
     "execution_count": 59,
     "metadata": {},
     "output_type": "execute_result"
    }
   ],
   "source": [
    "india_GDP"
   ]
  },
  {
   "cell_type": "code",
   "execution_count": 63,
   "id": "0d0e6723-eb27-49f7-8065-a71c172d958c",
   "metadata": {},
   "outputs": [
    {
     "ename": "TypeError",
     "evalue": "Invalid comparison between dtype=float64 and str",
     "output_type": "error",
     "traceback": [
      "\u001b[1;31m---------------------------------------------------------------------------\u001b[0m",
      "\u001b[1;31mTypeError\u001b[0m                                 Traceback (most recent call last)",
      "Cell \u001b[1;32mIn[63], line 1\u001b[0m\n\u001b[1;32m----> 1\u001b[0m df[df[\u001b[38;5;124m'\u001b[39m\u001b[38;5;124mGDP\u001b[39m\u001b[38;5;124m'\u001b[39m] \u001b[38;5;241m>\u001b[39m \u001b[38;5;124m'\u001b[39m\u001b[38;5;124mindia_GDP\u001b[39m\u001b[38;5;124m'\u001b[39m]\u001b[38;5;241m.\u001b[39mshape[\u001b[38;5;241m0\u001b[39m]\n",
      "File \u001b[1;32m~\\anaconda3\\Lib\\site-packages\\pandas\\core\\ops\\common.py:76\u001b[0m, in \u001b[0;36m_unpack_zerodim_and_defer.<locals>.new_method\u001b[1;34m(self, other)\u001b[0m\n\u001b[0;32m     72\u001b[0m             \u001b[38;5;28;01mreturn\u001b[39;00m \u001b[38;5;28mNotImplemented\u001b[39m\n\u001b[0;32m     74\u001b[0m other \u001b[38;5;241m=\u001b[39m item_from_zerodim(other)\n\u001b[1;32m---> 76\u001b[0m \u001b[38;5;28;01mreturn\u001b[39;00m method(\u001b[38;5;28mself\u001b[39m, other)\n",
      "File \u001b[1;32m~\\anaconda3\\Lib\\site-packages\\pandas\\core\\arraylike.py:56\u001b[0m, in \u001b[0;36mOpsMixin.__gt__\u001b[1;34m(self, other)\u001b[0m\n\u001b[0;32m     54\u001b[0m \u001b[38;5;129m@unpack_zerodim_and_defer\u001b[39m(\u001b[38;5;124m\"\u001b[39m\u001b[38;5;124m__gt__\u001b[39m\u001b[38;5;124m\"\u001b[39m)\n\u001b[0;32m     55\u001b[0m \u001b[38;5;28;01mdef\u001b[39;00m \u001b[38;5;21m__gt__\u001b[39m(\u001b[38;5;28mself\u001b[39m, other):\n\u001b[1;32m---> 56\u001b[0m     \u001b[38;5;28;01mreturn\u001b[39;00m \u001b[38;5;28mself\u001b[39m\u001b[38;5;241m.\u001b[39m_cmp_method(other, operator\u001b[38;5;241m.\u001b[39mgt)\n",
      "File \u001b[1;32m~\\anaconda3\\Lib\\site-packages\\pandas\\core\\series.py:5803\u001b[0m, in \u001b[0;36mSeries._cmp_method\u001b[1;34m(self, other, op)\u001b[0m\n\u001b[0;32m   5800\u001b[0m lvalues \u001b[38;5;241m=\u001b[39m \u001b[38;5;28mself\u001b[39m\u001b[38;5;241m.\u001b[39m_values\n\u001b[0;32m   5801\u001b[0m rvalues \u001b[38;5;241m=\u001b[39m extract_array(other, extract_numpy\u001b[38;5;241m=\u001b[39m\u001b[38;5;28;01mTrue\u001b[39;00m, extract_range\u001b[38;5;241m=\u001b[39m\u001b[38;5;28;01mTrue\u001b[39;00m)\n\u001b[1;32m-> 5803\u001b[0m res_values \u001b[38;5;241m=\u001b[39m ops\u001b[38;5;241m.\u001b[39mcomparison_op(lvalues, rvalues, op)\n\u001b[0;32m   5805\u001b[0m \u001b[38;5;28;01mreturn\u001b[39;00m \u001b[38;5;28mself\u001b[39m\u001b[38;5;241m.\u001b[39m_construct_result(res_values, name\u001b[38;5;241m=\u001b[39mres_name)\n",
      "File \u001b[1;32m~\\anaconda3\\Lib\\site-packages\\pandas\\core\\ops\\array_ops.py:343\u001b[0m, in \u001b[0;36mcomparison_op\u001b[1;34m(left, right, op)\u001b[0m\n\u001b[0;32m    339\u001b[0m         res_values \u001b[38;5;241m=\u001b[39m np\u001b[38;5;241m.\u001b[39mzeros(lvalues\u001b[38;5;241m.\u001b[39mshape, dtype\u001b[38;5;241m=\u001b[39m\u001b[38;5;28mbool\u001b[39m)\n\u001b[0;32m    341\u001b[0m \u001b[38;5;28;01melif\u001b[39;00m is_numeric_v_string_like(lvalues, rvalues):\n\u001b[0;32m    342\u001b[0m     \u001b[38;5;66;03m# GH#36377 going through the numexpr path would incorrectly raise\u001b[39;00m\n\u001b[1;32m--> 343\u001b[0m     \u001b[38;5;28;01mreturn\u001b[39;00m invalid_comparison(lvalues, rvalues, op)\n\u001b[0;32m    345\u001b[0m \u001b[38;5;28;01melif\u001b[39;00m lvalues\u001b[38;5;241m.\u001b[39mdtype \u001b[38;5;241m==\u001b[39m \u001b[38;5;28mobject\u001b[39m \u001b[38;5;129;01mor\u001b[39;00m \u001b[38;5;28misinstance\u001b[39m(rvalues, \u001b[38;5;28mstr\u001b[39m):\n\u001b[0;32m    346\u001b[0m     res_values \u001b[38;5;241m=\u001b[39m comp_method_OBJECT_ARRAY(op, lvalues, rvalues)\n",
      "File \u001b[1;32m~\\anaconda3\\Lib\\site-packages\\pandas\\core\\ops\\invalid.py:40\u001b[0m, in \u001b[0;36minvalid_comparison\u001b[1;34m(left, right, op)\u001b[0m\n\u001b[0;32m     38\u001b[0m \u001b[38;5;28;01melse\u001b[39;00m:\n\u001b[0;32m     39\u001b[0m     typ \u001b[38;5;241m=\u001b[39m \u001b[38;5;28mtype\u001b[39m(right)\u001b[38;5;241m.\u001b[39m\u001b[38;5;18m__name__\u001b[39m\n\u001b[1;32m---> 40\u001b[0m     \u001b[38;5;28;01mraise\u001b[39;00m \u001b[38;5;167;01mTypeError\u001b[39;00m(\u001b[38;5;124mf\u001b[39m\u001b[38;5;124m\"\u001b[39m\u001b[38;5;124mInvalid comparison between dtype=\u001b[39m\u001b[38;5;132;01m{\u001b[39;00mleft\u001b[38;5;241m.\u001b[39mdtype\u001b[38;5;132;01m}\u001b[39;00m\u001b[38;5;124m and \u001b[39m\u001b[38;5;132;01m{\u001b[39;00mtyp\u001b[38;5;132;01m}\u001b[39;00m\u001b[38;5;124m\"\u001b[39m)\n\u001b[0;32m     41\u001b[0m \u001b[38;5;28;01mreturn\u001b[39;00m res_values\n",
      "\u001b[1;31mTypeError\u001b[0m: Invalid comparison between dtype=float64 and str"
     ]
    }
   ],
   "source": [
    "df[df['GDP'] > 'india_GDP'].shape[0]"
   ]
  },
  {
   "cell_type": "code",
   "execution_count": null,
   "id": "89b0534a-2dfa-4a5d-85ac-015765307c93",
   "metadata": {},
   "outputs": [],
   "source": []
  }
 ],
 "metadata": {
  "kernelspec": {
   "display_name": "Python 3 (ipykernel)",
   "language": "python",
   "name": "python3"
  },
  "language_info": {
   "codemirror_mode": {
    "name": "ipython",
    "version": 3
   },
   "file_extension": ".py",
   "mimetype": "text/x-python",
   "name": "python",
   "nbconvert_exporter": "python",
   "pygments_lexer": "ipython3",
   "version": "3.11.5"
  }
 },
 "nbformat": 4,
 "nbformat_minor": 5
}
