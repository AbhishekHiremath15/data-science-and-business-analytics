{
 "cells": [
  {
   "cell_type": "code",
   "execution_count": 8,
   "id": "51a8057e-3b40-468d-8e8f-d5f45b0a78e7",
   "metadata": {},
   "outputs": [],
   "source": [
    "import numpy as np\n",
    "import pandas as pd"
   ]
  },
  {
   "cell_type": "code",
   "execution_count": null,
   "id": "a180ff03-52de-46e8-8c03-ae029997cded",
   "metadata": {},
   "outputs": [],
   "source": []
  },
  {
   "cell_type": "code",
   "execution_count": null,
   "id": "3501a7ee-7edf-4b2e-ae1c-c34f3b800ea1",
   "metadata": {},
   "outputs": [],
   "source": []
  },
  {
   "cell_type": "code",
   "execution_count": null,
   "id": "f0d2ba90-c025-4a33-b32d-1990e1ab3940",
   "metadata": {},
   "outputs": [],
   "source": []
  },
  {
   "cell_type": "code",
   "execution_count": null,
   "id": "59985878-c268-40d5-972f-fdb08531a90c",
   "metadata": {},
   "outputs": [],
   "source": []
  },
  {
   "cell_type": "code",
   "execution_count": null,
   "id": "6bccae75-069f-443c-a67b-df6a53558604",
   "metadata": {},
   "outputs": [],
   "source": []
  },
  {
   "cell_type": "code",
   "execution_count": null,
   "id": "13501db1-f2df-4bb6-9bf1-b8e7f160e6d5",
   "metadata": {},
   "outputs": [],
   "source": []
  },
  {
   "cell_type": "code",
   "execution_count": null,
   "id": "eee9ff3f-33f4-4810-99d5-2baac81f096b",
   "metadata": {},
   "outputs": [],
   "source": []
  },
  {
   "cell_type": "code",
   "execution_count": null,
   "id": "f449dcff-de95-4bc2-b731-b113fa3ffb21",
   "metadata": {},
   "outputs": [],
   "source": []
  },
  {
   "cell_type": "code",
   "execution_count": 9,
   "id": "6d8a65c0-3ead-49ec-848b-302abf72d041",
   "metadata": {},
   "outputs": [],
   "source": [
    "df = pd.read_csv('University.csv')"
   ]
  },
  {
   "cell_type": "code",
   "execution_count": 10,
   "id": "59cf7c57-6c30-4e60-8a03-d02896130e0a",
   "metadata": {},
   "outputs": [
    {
     "data": {
      "text/html": [
       "<div>\n",
       "<style scoped>\n",
       "    .dataframe tbody tr th:only-of-type {\n",
       "        vertical-align: middle;\n",
       "    }\n",
       "\n",
       "    .dataframe tbody tr th {\n",
       "        vertical-align: top;\n",
       "    }\n",
       "\n",
       "    .dataframe thead th {\n",
       "        text-align: right;\n",
       "    }\n",
       "</style>\n",
       "<table border=\"1\" class=\"dataframe\">\n",
       "  <thead>\n",
       "    <tr style=\"text-align: right;\">\n",
       "      <th></th>\n",
       "      <th>University</th>\n",
       "      <th>Student_Name</th>\n",
       "      <th>Grades</th>\n",
       "      <th>Fees(Overall)</th>\n",
       "      <th>Hobbies</th>\n",
       "      <th>Date_of_Admission</th>\n",
       "    </tr>\n",
       "  </thead>\n",
       "  <tbody>\n",
       "    <tr>\n",
       "      <th>0</th>\n",
       "      <td>Harvard University.</td>\n",
       "      <td>Stuart</td>\n",
       "      <td>8.0</td>\n",
       "      <td>$80000</td>\n",
       "      <td>Painting</td>\n",
       "      <td>08-02-2022</td>\n",
       "    </tr>\n",
       "    <tr>\n",
       "      <th>1</th>\n",
       "      <td>Massachusetts Institute of Technology.</td>\n",
       "      <td>Rosemarry</td>\n",
       "      <td>9.0</td>\n",
       "      <td>$75000</td>\n",
       "      <td>Driving</td>\n",
       "      <td>11-02-2022</td>\n",
       "    </tr>\n",
       "    <tr>\n",
       "      <th>2</th>\n",
       "      <td>Stanford University.</td>\n",
       "      <td>Flamingo</td>\n",
       "      <td>9.5</td>\n",
       "      <td>$67770</td>\n",
       "      <td>Photography</td>\n",
       "      <td>12-02-2022</td>\n",
       "    </tr>\n",
       "    <tr>\n",
       "      <th>3</th>\n",
       "      <td>University of California</td>\n",
       "      <td>Kiara</td>\n",
       "      <td>8.0</td>\n",
       "      <td>$77000</td>\n",
       "      <td>Travelling</td>\n",
       "      <td>13-11-2021</td>\n",
       "    </tr>\n",
       "    <tr>\n",
       "      <th>4</th>\n",
       "      <td>The University of Oxford in Oxford.</td>\n",
       "      <td>Oliver</td>\n",
       "      <td>7.5</td>\n",
       "      <td>$95000</td>\n",
       "      <td>Travelling</td>\n",
       "      <td>14-11-2021</td>\n",
       "    </tr>\n",
       "  </tbody>\n",
       "</table>\n",
       "</div>"
      ],
      "text/plain": [
       "                               University Student_Name  Grades Fees(Overall)  \\\n",
       "0                     Harvard University.       Stuart     8.0        $80000   \n",
       "1  Massachusetts Institute of Technology.    Rosemarry     9.0        $75000   \n",
       "2                    Stanford University.     Flamingo     9.5        $67770   \n",
       "3                University of California        Kiara     8.0        $77000   \n",
       "4     The University of Oxford in Oxford.       Oliver     7.5        $95000   \n",
       "\n",
       "       Hobbies Date_of_Admission  \n",
       "0     Painting        08-02-2022  \n",
       "1      Driving        11-02-2022  \n",
       "2  Photography        12-02-2022  \n",
       "3   Travelling        13-11-2021  \n",
       "4   Travelling        14-11-2021  "
      ]
     },
     "execution_count": 10,
     "metadata": {},
     "output_type": "execute_result"
    }
   ],
   "source": [
    "df.head()"
   ]
  },
  {
   "cell_type": "code",
   "execution_count": 5,
   "id": "19192fd5-fb63-4e38-9293-7a10d194e5b2",
   "metadata": {},
   "outputs": [
    {
     "data": {
      "text/html": [
       "<div>\n",
       "<style scoped>\n",
       "    .dataframe tbody tr th:only-of-type {\n",
       "        vertical-align: middle;\n",
       "    }\n",
       "\n",
       "    .dataframe tbody tr th {\n",
       "        vertical-align: top;\n",
       "    }\n",
       "\n",
       "    .dataframe thead th {\n",
       "        text-align: right;\n",
       "    }\n",
       "</style>\n",
       "<table border=\"1\" class=\"dataframe\">\n",
       "  <thead>\n",
       "    <tr style=\"text-align: right;\">\n",
       "      <th></th>\n",
       "      <th>University</th>\n",
       "      <th>Student_Name</th>\n",
       "      <th>Grades</th>\n",
       "      <th>Fees(Overall)</th>\n",
       "      <th>Hobbies</th>\n",
       "      <th>Date_of_Admission</th>\n",
       "    </tr>\n",
       "  </thead>\n",
       "  <tbody>\n",
       "    <tr>\n",
       "      <th>4</th>\n",
       "      <td>The University of Oxford in Oxford.</td>\n",
       "      <td>Oliver</td>\n",
       "      <td>7.5</td>\n",
       "      <td>$95000</td>\n",
       "      <td>Travelling</td>\n",
       "      <td>14-11-2021</td>\n",
       "    </tr>\n",
       "    <tr>\n",
       "      <th>5</th>\n",
       "      <td>Columbia University.</td>\n",
       "      <td>Emma</td>\n",
       "      <td>8.0</td>\n",
       "      <td>$56000</td>\n",
       "      <td>Choreography</td>\n",
       "      <td>28-11-2021</td>\n",
       "    </tr>\n",
       "    <tr>\n",
       "      <th>6</th>\n",
       "      <td>California Institute of Technology.</td>\n",
       "      <td>Charollete</td>\n",
       "      <td>8.0</td>\n",
       "      <td>$60000</td>\n",
       "      <td>Planting</td>\n",
       "      <td>26-11-2021</td>\n",
       "    </tr>\n",
       "    <tr>\n",
       "      <th>7</th>\n",
       "      <td>University of Washington.</td>\n",
       "      <td>James</td>\n",
       "      <td>9.5</td>\n",
       "      <td>$75000</td>\n",
       "      <td>Photography</td>\n",
       "      <td>20-02-2022</td>\n",
       "    </tr>\n",
       "    <tr>\n",
       "      <th>8</th>\n",
       "      <td>University of Texas</td>\n",
       "      <td>Jennifies</td>\n",
       "      <td>9.0</td>\n",
       "      <td>$50000</td>\n",
       "      <td>Driving</td>\n",
       "      <td>21-02-2022</td>\n",
       "    </tr>\n",
       "  </tbody>\n",
       "</table>\n",
       "</div>"
      ],
      "text/plain": [
       "                            University Student_Name  Grades Fees(Overall)  \\\n",
       "4  The University of Oxford in Oxford.       Oliver     7.5        $95000   \n",
       "5                 Columbia University.         Emma     8.0        $56000   \n",
       "6  California Institute of Technology.   Charollete     8.0        $60000   \n",
       "7            University of Washington.        James     9.5        $75000   \n",
       "8                  University of Texas    Jennifies     9.0        $50000   \n",
       "\n",
       "        Hobbies Date_of_Admission  \n",
       "4    Travelling        14-11-2021  \n",
       "5  Choreography        28-11-2021  \n",
       "6      Planting        26-11-2021  \n",
       "7   Photography        20-02-2022  \n",
       "8       Driving        21-02-2022  "
      ]
     },
     "execution_count": 5,
     "metadata": {},
     "output_type": "execute_result"
    }
   ],
   "source": [
    "df.tail()"
   ]
  },
  {
   "cell_type": "code",
   "execution_count": 6,
   "id": "eae1b371-cad4-4789-bce0-7c87ba0adb1e",
   "metadata": {},
   "outputs": [
    {
     "name": "stdout",
     "output_type": "stream",
     "text": [
      "<class 'pandas.core.frame.DataFrame'>\n",
      "RangeIndex: 9 entries, 0 to 8\n",
      "Data columns (total 6 columns):\n",
      " #   Column             Non-Null Count  Dtype  \n",
      "---  ------             --------------  -----  \n",
      " 0   University         9 non-null      object \n",
      " 1   Student_Name       9 non-null      object \n",
      " 2   Grades             9 non-null      float64\n",
      " 3   Fees(Overall)      9 non-null      object \n",
      " 4   Hobbies            9 non-null      object \n",
      " 5   Date_of_Admission  9 non-null      object \n",
      "dtypes: float64(1), object(5)\n",
      "memory usage: 564.0+ bytes\n"
     ]
    }
   ],
   "source": [
    "df.info()"
   ]
  },
  {
   "cell_type": "code",
   "execution_count": 7,
   "id": "8986223c-57d8-40e5-ac35-4d4c2a63e76d",
   "metadata": {},
   "outputs": [
    {
     "data": {
      "text/plain": [
       "(9, 6)"
      ]
     },
     "execution_count": 7,
     "metadata": {},
     "output_type": "execute_result"
    }
   ],
   "source": [
    "df.shape"
   ]
  },
  {
   "cell_type": "code",
   "execution_count": 15,
   "id": "0ca08d6e-e43e-4590-8c20-1feadadee22c",
   "metadata": {},
   "outputs": [
    {
     "data": {
      "text/plain": [
       "9"
      ]
     },
     "execution_count": 15,
     "metadata": {},
     "output_type": "execute_result"
    }
   ],
   "source": [
    "df['University'].shape[0]"
   ]
  },
  {
   "cell_type": "code",
   "execution_count": 57,
   "id": "e237ba21-b6f5-484c-94f7-09a74f1289b6",
   "metadata": {},
   "outputs": [
    {
     "data": {
      "text/html": [
       "<div>\n",
       "<style scoped>\n",
       "    .dataframe tbody tr th:only-of-type {\n",
       "        vertical-align: middle;\n",
       "    }\n",
       "\n",
       "    .dataframe tbody tr th {\n",
       "        vertical-align: top;\n",
       "    }\n",
       "\n",
       "    .dataframe thead th {\n",
       "        text-align: right;\n",
       "    }\n",
       "</style>\n",
       "<table border=\"1\" class=\"dataframe\">\n",
       "  <thead>\n",
       "    <tr style=\"text-align: right;\">\n",
       "      <th></th>\n",
       "      <th>University</th>\n",
       "      <th>Student_Name</th>\n",
       "      <th>Grades</th>\n",
       "      <th>Fees(Overall)</th>\n",
       "      <th>Date_of_Admission</th>\n",
       "    </tr>\n",
       "  </thead>\n",
       "  <tbody>\n",
       "    <tr>\n",
       "      <th>0</th>\n",
       "      <td>Harvard University.</td>\n",
       "      <td>Stuart</td>\n",
       "      <td>8.0</td>\n",
       "      <td>$80000</td>\n",
       "      <td>08-02-2022</td>\n",
       "    </tr>\n",
       "    <tr>\n",
       "      <th>1</th>\n",
       "      <td>Massachusetts Institute of Technology.</td>\n",
       "      <td>Rosemarry</td>\n",
       "      <td>9.0</td>\n",
       "      <td>$75000</td>\n",
       "      <td>11-02-2022</td>\n",
       "    </tr>\n",
       "    <tr>\n",
       "      <th>2</th>\n",
       "      <td>Stanford University.</td>\n",
       "      <td>Flamingo</td>\n",
       "      <td>9.5</td>\n",
       "      <td>$67770</td>\n",
       "      <td>12-02-2022</td>\n",
       "    </tr>\n",
       "    <tr>\n",
       "      <th>3</th>\n",
       "      <td>University of California</td>\n",
       "      <td>Kiara</td>\n",
       "      <td>8.0</td>\n",
       "      <td>$77000</td>\n",
       "      <td>13-11-2021</td>\n",
       "    </tr>\n",
       "    <tr>\n",
       "      <th>4</th>\n",
       "      <td>The University of Oxford in Oxford.</td>\n",
       "      <td>Oliver</td>\n",
       "      <td>7.5</td>\n",
       "      <td>$95000</td>\n",
       "      <td>14-11-2021</td>\n",
       "    </tr>\n",
       "    <tr>\n",
       "      <th>5</th>\n",
       "      <td>Columbia University.</td>\n",
       "      <td>Emma</td>\n",
       "      <td>8.0</td>\n",
       "      <td>$56000</td>\n",
       "      <td>28-11-2021</td>\n",
       "    </tr>\n",
       "    <tr>\n",
       "      <th>6</th>\n",
       "      <td>California Institute of Technology.</td>\n",
       "      <td>Charollete</td>\n",
       "      <td>8.0</td>\n",
       "      <td>$60000</td>\n",
       "      <td>26-11-2021</td>\n",
       "    </tr>\n",
       "    <tr>\n",
       "      <th>7</th>\n",
       "      <td>University of Washington.</td>\n",
       "      <td>James</td>\n",
       "      <td>9.5</td>\n",
       "      <td>$75000</td>\n",
       "      <td>20-02-2022</td>\n",
       "    </tr>\n",
       "    <tr>\n",
       "      <th>8</th>\n",
       "      <td>University of Texas</td>\n",
       "      <td>Jennifies</td>\n",
       "      <td>9.0</td>\n",
       "      <td>$50000</td>\n",
       "      <td>21-02-2022</td>\n",
       "    </tr>\n",
       "  </tbody>\n",
       "</table>\n",
       "</div>"
      ],
      "text/plain": [
       "                               University Student_Name  Grades Fees(Overall)  \\\n",
       "0                     Harvard University.       Stuart     8.0        $80000   \n",
       "1  Massachusetts Institute of Technology.    Rosemarry     9.0        $75000   \n",
       "2                    Stanford University.     Flamingo     9.5        $67770   \n",
       "3                University of California        Kiara     8.0        $77000   \n",
       "4     The University of Oxford in Oxford.       Oliver     7.5        $95000   \n",
       "5                    Columbia University.         Emma     8.0        $56000   \n",
       "6     California Institute of Technology.   Charollete     8.0        $60000   \n",
       "7               University of Washington.        James     9.5        $75000   \n",
       "8                     University of Texas    Jennifies     9.0        $50000   \n",
       "\n",
       "  Date_of_Admission  \n",
       "0        08-02-2022  \n",
       "1        11-02-2022  \n",
       "2        12-02-2022  \n",
       "3        13-11-2021  \n",
       "4        14-11-2021  \n",
       "5        28-11-2021  \n",
       "6        26-11-2021  \n",
       "7        20-02-2022  \n",
       "8        21-02-2022  "
      ]
     },
     "execution_count": 57,
     "metadata": {},
     "output_type": "execute_result"
    }
   ],
   "source": [
    "df = pd.read_csv('University.csv')\n",
    "df.drop('Hobbies',axis=1,inplace=True)\n",
    "df"
   ]
  },
  {
   "cell_type": "code",
   "execution_count": null,
   "id": "4beaeb76-ac0b-4e85-9b31-f4a6e89557b3",
   "metadata": {},
   "outputs": [],
   "source": []
  },
  {
   "cell_type": "code",
   "execution_count": 19,
   "id": "a8e6dcbd-49f5-416b-a35d-223a8f4304d7",
   "metadata": {},
   "outputs": [
    {
     "data": {
      "text/plain": [
       "0                       Harvard University.\n",
       "1    Massachusetts Institute of Technology.\n",
       "2                      Stanford University.\n",
       "3                  University of California\n",
       "4       The University of Oxford in Oxford.\n",
       "5                      Columbia University.\n",
       "6       California Institute of Technology.\n",
       "7                 University of Washington.\n",
       "8                       University of Texas\n",
       "Name: University, dtype: object"
      ]
     },
     "execution_count": 19,
     "metadata": {},
     "output_type": "execute_result"
    }
   ],
   "source": [
    "df['University']"
   ]
  },
  {
   "cell_type": "code",
   "execution_count": 42,
   "id": "e1c080ec-e7a4-4a68-94ea-1286eb9a63b9",
   "metadata": {},
   "outputs": [
    {
     "name": "stdout",
     "output_type": "stream",
     "text": [
      "0   2022-02-08\n",
      "1   2022-02-11\n",
      "2   2022-02-12\n",
      "3   2021-11-13\n",
      "4   2021-11-14\n",
      "5   2021-11-28\n",
      "6   2021-11-26\n",
      "7   2022-02-20\n",
      "8   2022-02-21\n",
      "Name: Date_of_Admission, dtype: datetime64[ns]\n"
     ]
    }
   ],
   "source": [
    "df = pd.read_csv('University.csv')\n",
    "df['Date_of_Admission'] = pd.to_datetime(df['Date_of_Admission'],dayfirst=True)\n",
    "print(df['Date_of_Admission'])"
   ]
  },
  {
   "cell_type": "code",
   "execution_count": 50,
   "id": "07fa6289-534e-4aab-b572-6a26e372c303",
   "metadata": {},
   "outputs": [
    {
     "name": "stdout",
     "output_type": "stream",
     "text": [
      "0     2\n",
      "1     2\n",
      "2     2\n",
      "3    11\n",
      "4    11\n",
      "5    11\n",
      "6    11\n",
      "7     2\n",
      "8     2\n",
      "Name: Month, dtype: int32\n"
     ]
    }
   ],
   "source": [
    "df['Month']=df['Date_of_Admission'].dt.month\n",
    "print(df['Month'])"
   ]
  },
  {
   "cell_type": "code",
   "execution_count": 51,
   "id": "152914d5-2409-48ed-b8ff-d3e3b7f8fd3b",
   "metadata": {},
   "outputs": [
    {
     "data": {
      "text/html": [
       "<div>\n",
       "<style scoped>\n",
       "    .dataframe tbody tr th:only-of-type {\n",
       "        vertical-align: middle;\n",
       "    }\n",
       "\n",
       "    .dataframe tbody tr th {\n",
       "        vertical-align: top;\n",
       "    }\n",
       "\n",
       "    .dataframe thead th {\n",
       "        text-align: right;\n",
       "    }\n",
       "</style>\n",
       "<table border=\"1\" class=\"dataframe\">\n",
       "  <thead>\n",
       "    <tr style=\"text-align: right;\">\n",
       "      <th></th>\n",
       "      <th>University</th>\n",
       "      <th>Student_Name</th>\n",
       "      <th>Grades</th>\n",
       "      <th>Fees(Overall)</th>\n",
       "      <th>Hobbies</th>\n",
       "      <th>Date_of_Admission</th>\n",
       "      <th>Month</th>\n",
       "    </tr>\n",
       "  </thead>\n",
       "  <tbody>\n",
       "    <tr>\n",
       "      <th>0</th>\n",
       "      <td>Harvard University.</td>\n",
       "      <td>Stuart</td>\n",
       "      <td>8.0</td>\n",
       "      <td>$80000</td>\n",
       "      <td>Painting</td>\n",
       "      <td>2022-02-08</td>\n",
       "      <td>2</td>\n",
       "    </tr>\n",
       "    <tr>\n",
       "      <th>1</th>\n",
       "      <td>Massachusetts Institute of Technology.</td>\n",
       "      <td>Rosemarry</td>\n",
       "      <td>9.0</td>\n",
       "      <td>$75000</td>\n",
       "      <td>Driving</td>\n",
       "      <td>2022-02-11</td>\n",
       "      <td>2</td>\n",
       "    </tr>\n",
       "    <tr>\n",
       "      <th>2</th>\n",
       "      <td>Stanford University.</td>\n",
       "      <td>Flamingo</td>\n",
       "      <td>9.5</td>\n",
       "      <td>$67770</td>\n",
       "      <td>Photography</td>\n",
       "      <td>2022-02-12</td>\n",
       "      <td>2</td>\n",
       "    </tr>\n",
       "    <tr>\n",
       "      <th>3</th>\n",
       "      <td>University of California</td>\n",
       "      <td>Kiara</td>\n",
       "      <td>8.0</td>\n",
       "      <td>$77000</td>\n",
       "      <td>Travelling</td>\n",
       "      <td>2021-11-13</td>\n",
       "      <td>11</td>\n",
       "    </tr>\n",
       "    <tr>\n",
       "      <th>4</th>\n",
       "      <td>The University of Oxford in Oxford.</td>\n",
       "      <td>Oliver</td>\n",
       "      <td>7.5</td>\n",
       "      <td>$95000</td>\n",
       "      <td>Travelling</td>\n",
       "      <td>2021-11-14</td>\n",
       "      <td>11</td>\n",
       "    </tr>\n",
       "  </tbody>\n",
       "</table>\n",
       "</div>"
      ],
      "text/plain": [
       "                               University Student_Name  Grades Fees(Overall)  \\\n",
       "0                     Harvard University.       Stuart     8.0        $80000   \n",
       "1  Massachusetts Institute of Technology.    Rosemarry     9.0        $75000   \n",
       "2                    Stanford University.     Flamingo     9.5        $67770   \n",
       "3                University of California        Kiara     8.0        $77000   \n",
       "4     The University of Oxford in Oxford.       Oliver     7.5        $95000   \n",
       "\n",
       "       Hobbies Date_of_Admission  Month  \n",
       "0     Painting        2022-02-08      2  \n",
       "1      Driving        2022-02-11      2  \n",
       "2  Photography        2022-02-12      2  \n",
       "3   Travelling        2021-11-13     11  \n",
       "4   Travelling        2021-11-14     11  "
      ]
     },
     "execution_count": 51,
     "metadata": {},
     "output_type": "execute_result"
    }
   ],
   "source": [
    "df.head()"
   ]
  },
  {
   "cell_type": "code",
   "execution_count": 52,
   "id": "670def06-fcd9-4ab8-9a42-7034a27595be",
   "metadata": {},
   "outputs": [
    {
     "data": {
      "text/html": [
       "<div>\n",
       "<style scoped>\n",
       "    .dataframe tbody tr th:only-of-type {\n",
       "        vertical-align: middle;\n",
       "    }\n",
       "\n",
       "    .dataframe tbody tr th {\n",
       "        vertical-align: top;\n",
       "    }\n",
       "\n",
       "    .dataframe thead th {\n",
       "        text-align: right;\n",
       "    }\n",
       "</style>\n",
       "<table border=\"1\" class=\"dataframe\">\n",
       "  <thead>\n",
       "    <tr style=\"text-align: right;\">\n",
       "      <th></th>\n",
       "      <th>University</th>\n",
       "      <th>Student_Name</th>\n",
       "      <th>Grades</th>\n",
       "      <th>Fees(Overall)</th>\n",
       "      <th>Hobbies</th>\n",
       "      <th>Date_of_Admission</th>\n",
       "      <th>Month</th>\n",
       "    </tr>\n",
       "  </thead>\n",
       "  <tbody>\n",
       "    <tr>\n",
       "      <th>4</th>\n",
       "      <td>The University of Oxford in Oxford.</td>\n",
       "      <td>Oliver</td>\n",
       "      <td>7.5</td>\n",
       "      <td>$95000</td>\n",
       "      <td>Travelling</td>\n",
       "      <td>2021-11-14</td>\n",
       "      <td>11</td>\n",
       "    </tr>\n",
       "    <tr>\n",
       "      <th>5</th>\n",
       "      <td>Columbia University.</td>\n",
       "      <td>Emma</td>\n",
       "      <td>8.0</td>\n",
       "      <td>$56000</td>\n",
       "      <td>Choreography</td>\n",
       "      <td>2021-11-28</td>\n",
       "      <td>11</td>\n",
       "    </tr>\n",
       "    <tr>\n",
       "      <th>6</th>\n",
       "      <td>California Institute of Technology.</td>\n",
       "      <td>Charollete</td>\n",
       "      <td>8.0</td>\n",
       "      <td>$60000</td>\n",
       "      <td>Planting</td>\n",
       "      <td>2021-11-26</td>\n",
       "      <td>11</td>\n",
       "    </tr>\n",
       "    <tr>\n",
       "      <th>7</th>\n",
       "      <td>University of Washington.</td>\n",
       "      <td>James</td>\n",
       "      <td>9.5</td>\n",
       "      <td>$75000</td>\n",
       "      <td>Photography</td>\n",
       "      <td>2022-02-20</td>\n",
       "      <td>2</td>\n",
       "    </tr>\n",
       "    <tr>\n",
       "      <th>8</th>\n",
       "      <td>University of Texas</td>\n",
       "      <td>Jennifies</td>\n",
       "      <td>9.0</td>\n",
       "      <td>$50000</td>\n",
       "      <td>Driving</td>\n",
       "      <td>2022-02-21</td>\n",
       "      <td>2</td>\n",
       "    </tr>\n",
       "  </tbody>\n",
       "</table>\n",
       "</div>"
      ],
      "text/plain": [
       "                            University Student_Name  Grades Fees(Overall)  \\\n",
       "4  The University of Oxford in Oxford.       Oliver     7.5        $95000   \n",
       "5                 Columbia University.         Emma     8.0        $56000   \n",
       "6  California Institute of Technology.   Charollete     8.0        $60000   \n",
       "7            University of Washington.        James     9.5        $75000   \n",
       "8                  University of Texas    Jennifies     9.0        $50000   \n",
       "\n",
       "        Hobbies Date_of_Admission  Month  \n",
       "4    Travelling        2021-11-14     11  \n",
       "5  Choreography        2021-11-28     11  \n",
       "6      Planting        2021-11-26     11  \n",
       "7   Photography        2022-02-20      2  \n",
       "8       Driving        2022-02-21      2  "
      ]
     },
     "execution_count": 52,
     "metadata": {},
     "output_type": "execute_result"
    }
   ],
   "source": [
    "df.tail()"
   ]
  },
  {
   "cell_type": "code",
   "execution_count": 63,
   "id": "4ef0c3ba-381f-458a-9d95-653a23f89253",
   "metadata": {},
   "outputs": [],
   "source": [
    "matA=[[0.63210023, 0.99338139, 0.16793459],[0.67031607, 0.8320512, 0.51020623],[0.55752543, 0.29201488, 0.19119979]]\n",
    "matA = np.array(matA)\n"
   ]
  },
  {
   "cell_type": "code",
   "execution_count": null,
   "id": "2e9cf2d0-1bb1-4bee-ba48-53bea5637eb6",
   "metadata": {},
   "outputs": [],
   "source": [
    "mat"
   ]
  }
 ],
 "metadata": {
  "kernelspec": {
   "display_name": "Python 3 (ipykernel)",
   "language": "python",
   "name": "python3"
  },
  "language_info": {
   "codemirror_mode": {
    "name": "ipython",
    "version": 3
   },
   "file_extension": ".py",
   "mimetype": "text/x-python",
   "name": "python",
   "nbconvert_exporter": "python",
   "pygments_lexer": "ipython3",
   "version": "3.11.5"
  }
 },
 "nbformat": 4,
 "nbformat_minor": 5
}
