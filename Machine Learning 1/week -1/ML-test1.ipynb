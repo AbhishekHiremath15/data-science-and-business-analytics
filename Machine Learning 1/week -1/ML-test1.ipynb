{
 "cells": [
  {
   "cell_type": "code",
   "execution_count": 1,
   "id": "a7462258-da38-403f-bfaa-d30bfcf8d41a",
   "metadata": {},
   "outputs": [],
   "source": [
    "#Import all the necessary libraries \n",
    "import pandas as pd \n",
    "import numpy as np \n",
    "import os \n",
    "import seaborn as sns \n",
    "import matplotlib.pyplot as plt"
   ]
  },
  {
   "cell_type": "code",
   "execution_count": 2,
   "id": "93e4700f-c333-4b0c-bda6-db309ec84459",
   "metadata": {},
   "outputs": [],
   "source": [
    "df = pd.read_csv ('Downloads/Machine Learning 1/Redwine+Quality.csv') "
   ]
  },
  {
   "cell_type": "code",
   "execution_count": 3,
   "id": "0a6758b9-de0b-4c4b-ae8c-f48e431ca2a3",
   "metadata": {},
   "outputs": [
    {
     "data": {
      "text/html": [
       "<div>\n",
       "<style scoped>\n",
       "    .dataframe tbody tr th:only-of-type {\n",
       "        vertical-align: middle;\n",
       "    }\n",
       "\n",
       "    .dataframe tbody tr th {\n",
       "        vertical-align: top;\n",
       "    }\n",
       "\n",
       "    .dataframe thead th {\n",
       "        text-align: right;\n",
       "    }\n",
       "</style>\n",
       "<table border=\"1\" class=\"dataframe\">\n",
       "  <thead>\n",
       "    <tr style=\"text-align: right;\">\n",
       "      <th></th>\n",
       "      <th>Unnamed: 0</th>\n",
       "      <th>Tartaric Acid</th>\n",
       "      <th>Grape Density</th>\n",
       "      <th>Citric Acid</th>\n",
       "      <th>Residual.sugar</th>\n",
       "      <th>Sodium chloride</th>\n",
       "      <th>Free.sulfur.dioxide</th>\n",
       "      <th>Bound.sulfur.dioxide</th>\n",
       "      <th>Alcohol Density</th>\n",
       "      <th>PH Levels</th>\n",
       "      <th>Potassium chloride</th>\n",
       "      <th>Alcohol Content</th>\n",
       "    </tr>\n",
       "  </thead>\n",
       "  <tbody>\n",
       "    <tr>\n",
       "      <th>0</th>\n",
       "      <td>1</td>\n",
       "      <td>7.4</td>\n",
       "      <td>0.70</td>\n",
       "      <td>0.00</td>\n",
       "      <td>1.9</td>\n",
       "      <td>0.076</td>\n",
       "      <td>11.0</td>\n",
       "      <td>34.0</td>\n",
       "      <td>0.9978</td>\n",
       "      <td>3.51</td>\n",
       "      <td>0.56</td>\n",
       "      <td>9.4</td>\n",
       "    </tr>\n",
       "    <tr>\n",
       "      <th>1</th>\n",
       "      <td>2</td>\n",
       "      <td>7.8</td>\n",
       "      <td>0.88</td>\n",
       "      <td>0.00</td>\n",
       "      <td>2.6</td>\n",
       "      <td>0.098</td>\n",
       "      <td>25.0</td>\n",
       "      <td>67.0</td>\n",
       "      <td>0.9968</td>\n",
       "      <td>3.20</td>\n",
       "      <td>0.68</td>\n",
       "      <td>9.8</td>\n",
       "    </tr>\n",
       "    <tr>\n",
       "      <th>2</th>\n",
       "      <td>3</td>\n",
       "      <td>7.8</td>\n",
       "      <td>0.76</td>\n",
       "      <td>0.04</td>\n",
       "      <td>2.3</td>\n",
       "      <td>0.092</td>\n",
       "      <td>15.0</td>\n",
       "      <td>54.0</td>\n",
       "      <td>0.9970</td>\n",
       "      <td>3.26</td>\n",
       "      <td>0.65</td>\n",
       "      <td>9.8</td>\n",
       "    </tr>\n",
       "    <tr>\n",
       "      <th>3</th>\n",
       "      <td>4</td>\n",
       "      <td>11.2</td>\n",
       "      <td>0.28</td>\n",
       "      <td>0.56</td>\n",
       "      <td>1.9</td>\n",
       "      <td>0.075</td>\n",
       "      <td>17.0</td>\n",
       "      <td>60.0</td>\n",
       "      <td>0.9980</td>\n",
       "      <td>3.16</td>\n",
       "      <td>0.58</td>\n",
       "      <td>9.8</td>\n",
       "    </tr>\n",
       "    <tr>\n",
       "      <th>4</th>\n",
       "      <td>5</td>\n",
       "      <td>7.4</td>\n",
       "      <td>0.70</td>\n",
       "      <td>0.00</td>\n",
       "      <td>1.9</td>\n",
       "      <td>0.076</td>\n",
       "      <td>11.0</td>\n",
       "      <td>34.0</td>\n",
       "      <td>0.9978</td>\n",
       "      <td>3.51</td>\n",
       "      <td>0.56</td>\n",
       "      <td>9.4</td>\n",
       "    </tr>\n",
       "    <tr>\n",
       "      <th>5</th>\n",
       "      <td>6</td>\n",
       "      <td>7.4</td>\n",
       "      <td>0.66</td>\n",
       "      <td>0.00</td>\n",
       "      <td>1.8</td>\n",
       "      <td>0.075</td>\n",
       "      <td>13.0</td>\n",
       "      <td>40.0</td>\n",
       "      <td>0.9978</td>\n",
       "      <td>3.51</td>\n",
       "      <td>0.56</td>\n",
       "      <td>9.4</td>\n",
       "    </tr>\n",
       "    <tr>\n",
       "      <th>6</th>\n",
       "      <td>7</td>\n",
       "      <td>7.9</td>\n",
       "      <td>0.60</td>\n",
       "      <td>0.06</td>\n",
       "      <td>1.6</td>\n",
       "      <td>0.069</td>\n",
       "      <td>15.0</td>\n",
       "      <td>59.0</td>\n",
       "      <td>0.9964</td>\n",
       "      <td>3.30</td>\n",
       "      <td>0.46</td>\n",
       "      <td>9.4</td>\n",
       "    </tr>\n",
       "    <tr>\n",
       "      <th>7</th>\n",
       "      <td>8</td>\n",
       "      <td>7.3</td>\n",
       "      <td>0.65</td>\n",
       "      <td>0.00</td>\n",
       "      <td>1.2</td>\n",
       "      <td>0.065</td>\n",
       "      <td>15.0</td>\n",
       "      <td>21.0</td>\n",
       "      <td>0.9946</td>\n",
       "      <td>3.39</td>\n",
       "      <td>0.47</td>\n",
       "      <td>10.0</td>\n",
       "    </tr>\n",
       "    <tr>\n",
       "      <th>8</th>\n",
       "      <td>9</td>\n",
       "      <td>7.8</td>\n",
       "      <td>0.58</td>\n",
       "      <td>0.02</td>\n",
       "      <td>2.0</td>\n",
       "      <td>0.073</td>\n",
       "      <td>9.0</td>\n",
       "      <td>18.0</td>\n",
       "      <td>0.9968</td>\n",
       "      <td>3.36</td>\n",
       "      <td>0.57</td>\n",
       "      <td>9.5</td>\n",
       "    </tr>\n",
       "    <tr>\n",
       "      <th>9</th>\n",
       "      <td>10</td>\n",
       "      <td>7.5</td>\n",
       "      <td>0.50</td>\n",
       "      <td>0.36</td>\n",
       "      <td>6.1</td>\n",
       "      <td>0.071</td>\n",
       "      <td>17.0</td>\n",
       "      <td>102.0</td>\n",
       "      <td>0.9978</td>\n",
       "      <td>3.35</td>\n",
       "      <td>0.80</td>\n",
       "      <td>10.5</td>\n",
       "    </tr>\n",
       "  </tbody>\n",
       "</table>\n",
       "</div>"
      ],
      "text/plain": [
       "   Unnamed: 0  Tartaric Acid  Grape Density  Citric Acid  Residual.sugar  \\\n",
       "0           1            7.4           0.70         0.00             1.9   \n",
       "1           2            7.8           0.88         0.00             2.6   \n",
       "2           3            7.8           0.76         0.04             2.3   \n",
       "3           4           11.2           0.28         0.56             1.9   \n",
       "4           5            7.4           0.70         0.00             1.9   \n",
       "5           6            7.4           0.66         0.00             1.8   \n",
       "6           7            7.9           0.60         0.06             1.6   \n",
       "7           8            7.3           0.65         0.00             1.2   \n",
       "8           9            7.8           0.58         0.02             2.0   \n",
       "9          10            7.5           0.50         0.36             6.1   \n",
       "\n",
       "   Sodium chloride  Free.sulfur.dioxide  Bound.sulfur.dioxide  \\\n",
       "0            0.076                 11.0                  34.0   \n",
       "1            0.098                 25.0                  67.0   \n",
       "2            0.092                 15.0                  54.0   \n",
       "3            0.075                 17.0                  60.0   \n",
       "4            0.076                 11.0                  34.0   \n",
       "5            0.075                 13.0                  40.0   \n",
       "6            0.069                 15.0                  59.0   \n",
       "7            0.065                 15.0                  21.0   \n",
       "8            0.073                  9.0                  18.0   \n",
       "9            0.071                 17.0                 102.0   \n",
       "\n",
       "   Alcohol Density  PH Levels  Potassium chloride  Alcohol Content  \n",
       "0           0.9978       3.51                0.56              9.4  \n",
       "1           0.9968       3.20                0.68              9.8  \n",
       "2           0.9970       3.26                0.65              9.8  \n",
       "3           0.9980       3.16                0.58              9.8  \n",
       "4           0.9978       3.51                0.56              9.4  \n",
       "5           0.9978       3.51                0.56              9.4  \n",
       "6           0.9964       3.30                0.46              9.4  \n",
       "7           0.9946       3.39                0.47             10.0  \n",
       "8           0.9968       3.36                0.57              9.5  \n",
       "9           0.9978       3.35                0.80             10.5  "
      ]
     },
     "execution_count": 3,
     "metadata": {},
     "output_type": "execute_result"
    }
   ],
   "source": [
    "df.head(10) "
   ]
  },
  {
   "cell_type": "code",
   "execution_count": 4,
   "id": "12f4bcdc-9034-4a1e-aefa-6b1e583d2454",
   "metadata": {},
   "outputs": [],
   "source": [
    "df.drop('Unnamed: 0',axis=1,inplace=True)"
   ]
  },
  {
   "cell_type": "code",
   "execution_count": 5,
   "id": "25bfbfbc-1b19-4835-a70a-1f426d4f7c7a",
   "metadata": {},
   "outputs": [
    {
     "name": "stdout",
     "output_type": "stream",
     "text": [
      "<class 'pandas.core.frame.DataFrame'>\n",
      "RangeIndex: 1599 entries, 0 to 1598\n",
      "Data columns (total 11 columns):\n",
      " #   Column                Non-Null Count  Dtype  \n",
      "---  ------                --------------  -----  \n",
      " 0   Tartaric Acid         1599 non-null   float64\n",
      " 1   Grape Density         1599 non-null   float64\n",
      " 2   Citric Acid           1599 non-null   float64\n",
      " 3   Residual.sugar        1599 non-null   float64\n",
      " 4   Sodium chloride       1599 non-null   float64\n",
      " 5   Free.sulfur.dioxide   1599 non-null   float64\n",
      " 6   Bound.sulfur.dioxide  1599 non-null   float64\n",
      " 7   Alcohol Density       1599 non-null   float64\n",
      " 8   PH Levels             1599 non-null   float64\n",
      " 9   Potassium chloride    1599 non-null   float64\n",
      " 10  Alcohol Content       1599 non-null   float64\n",
      "dtypes: float64(11)\n",
      "memory usage: 137.5 KB\n"
     ]
    }
   ],
   "source": [
    "df.info()"
   ]
  },
  {
   "cell_type": "code",
   "execution_count": 8,
   "id": "ef4a7042-799c-4dd0-bef4-0ca0347728ee",
   "metadata": {},
   "outputs": [
    {
     "data": {
      "image/png": "[encoded data removed]",
      "text/plain": [
       "<Figure size 1200x600 with 2 Axes>"
      ]
     },
     "metadata": {},
     "output_type": "display_data"
    }
   ],
   "source": [
    "plt.figure(figsize=(12,6)) \n",
    "sns.heatmap(df.corr(),cmap='plasma',fmt='.2g',annot=True,mask=np.triu(df.corr(),+1)) \n",
    "plt.show()"
   ]
  },
  {
   "cell_type": "code",
   "execution_count": 9,
   "id": "31f57a30-9dd4-4f1b-97e7-45394eb17bb2",
   "metadata": {},
   "outputs": [
    {
     "data": {
      "text/html": [
       "<div>\n",
       "<style scoped>\n",
       "    .dataframe tbody tr th:only-of-type {\n",
       "        vertical-align: middle;\n",
       "    }\n",
       "\n",
       "    .dataframe tbody tr th {\n",
       "        vertical-align: top;\n",
       "    }\n",
       "\n",
       "    .dataframe thead th {\n",
       "        text-align: right;\n",
       "    }\n",
       "</style>\n",
       "<table border=\"1\" class=\"dataframe\">\n",
       "  <thead>\n",
       "    <tr style=\"text-align: right;\">\n",
       "      <th></th>\n",
       "      <th>Tartaric Acid</th>\n",
       "      <th>Grape Density</th>\n",
       "      <th>Citric Acid</th>\n",
       "      <th>Residual.sugar</th>\n",
       "      <th>Sodium chloride</th>\n",
       "      <th>Free.sulfur.dioxide</th>\n",
       "      <th>Bound.sulfur.dioxide</th>\n",
       "      <th>Alcohol Density</th>\n",
       "      <th>PH Levels</th>\n",
       "      <th>Potassium chloride</th>\n",
       "      <th>Alcohol Content</th>\n",
       "    </tr>\n",
       "  </thead>\n",
       "  <tbody>\n",
       "    <tr>\n",
       "      <th>0</th>\n",
       "      <td>-0.528360</td>\n",
       "      <td>0.961877</td>\n",
       "      <td>-1.391472</td>\n",
       "      <td>-0.453218</td>\n",
       "      <td>-0.243707</td>\n",
       "      <td>-0.466193</td>\n",
       "      <td>-0.379133</td>\n",
       "      <td>0.558274</td>\n",
       "      <td>1.288643</td>\n",
       "      <td>-0.579207</td>\n",
       "      <td>-0.960246</td>\n",
       "    </tr>\n",
       "    <tr>\n",
       "      <th>1</th>\n",
       "      <td>-0.298547</td>\n",
       "      <td>1.967442</td>\n",
       "      <td>-1.391472</td>\n",
       "      <td>0.043416</td>\n",
       "      <td>0.223875</td>\n",
       "      <td>0.872638</td>\n",
       "      <td>0.624363</td>\n",
       "      <td>0.028261</td>\n",
       "      <td>-0.719933</td>\n",
       "      <td>0.128950</td>\n",
       "      <td>-0.584777</td>\n",
       "    </tr>\n",
       "    <tr>\n",
       "      <th>2</th>\n",
       "      <td>-0.298547</td>\n",
       "      <td>1.297065</td>\n",
       "      <td>-1.186070</td>\n",
       "      <td>-0.169427</td>\n",
       "      <td>0.096353</td>\n",
       "      <td>-0.083669</td>\n",
       "      <td>0.229047</td>\n",
       "      <td>0.134264</td>\n",
       "      <td>-0.331177</td>\n",
       "      <td>-0.048089</td>\n",
       "      <td>-0.584777</td>\n",
       "    </tr>\n",
       "    <tr>\n",
       "      <th>3</th>\n",
       "      <td>1.654856</td>\n",
       "      <td>-1.384443</td>\n",
       "      <td>1.484154</td>\n",
       "      <td>-0.453218</td>\n",
       "      <td>-0.264960</td>\n",
       "      <td>0.107592</td>\n",
       "      <td>0.411500</td>\n",
       "      <td>0.664277</td>\n",
       "      <td>-0.979104</td>\n",
       "      <td>-0.461180</td>\n",
       "      <td>-0.584777</td>\n",
       "    </tr>\n",
       "    <tr>\n",
       "      <th>4</th>\n",
       "      <td>-0.528360</td>\n",
       "      <td>0.961877</td>\n",
       "      <td>-1.391472</td>\n",
       "      <td>-0.453218</td>\n",
       "      <td>-0.243707</td>\n",
       "      <td>-0.466193</td>\n",
       "      <td>-0.379133</td>\n",
       "      <td>0.558274</td>\n",
       "      <td>1.288643</td>\n",
       "      <td>-0.579207</td>\n",
       "      <td>-0.960246</td>\n",
       "    </tr>\n",
       "  </tbody>\n",
       "</table>\n",
       "</div>"
      ],
      "text/plain": [
       "   Tartaric Acid  Grape Density  Citric Acid  Residual.sugar  Sodium chloride  \\\n",
       "0      -0.528360       0.961877    -1.391472       -0.453218        -0.243707   \n",
       "1      -0.298547       1.967442    -1.391472        0.043416         0.223875   \n",
       "2      -0.298547       1.297065    -1.186070       -0.169427         0.096353   \n",
       "3       1.654856      -1.384443     1.484154       -0.453218        -0.264960   \n",
       "4      -0.528360       0.961877    -1.391472       -0.453218        -0.243707   \n",
       "\n",
       "   Free.sulfur.dioxide  Bound.sulfur.dioxide  Alcohol Density  PH Levels  \\\n",
       "0            -0.466193             -0.379133         0.558274   1.288643   \n",
       "1             0.872638              0.624363         0.028261  -0.719933   \n",
       "2            -0.083669              0.229047         0.134264  -0.331177   \n",
       "3             0.107592              0.411500         0.664277  -0.979104   \n",
       "4            -0.466193             -0.379133         0.558274   1.288643   \n",
       "\n",
       "   Potassium chloride  Alcohol Content  \n",
       "0           -0.579207        -0.960246  \n",
       "1            0.128950        -0.584777  \n",
       "2           -0.048089        -0.584777  \n",
       "3           -0.461180        -0.584777  \n",
       "4           -0.579207        -0.960246  "
      ]
     },
     "execution_count": 9,
     "metadata": {},
     "output_type": "execute_result"
    }
   ],
   "source": [
    "from scipy.stats import zscore \n",
    "data_scaled=df.apply(zscore) \n",
    "data_scaled.head() "
   ]
  },
  {
   "cell_type": "code",
   "execution_count": 10,
   "id": "042034e7-c924-473b-929b-fa32ecb7ed08",
   "metadata": {},
   "outputs": [],
   "source": [
    "from sklearn.decomposition import PCA \n",
    "pca = PCA(n_components=6, random_state=123) \n",
    "pca_transformed = pca.fit_transform(data_scaled)"
   ]
  },
  {
   "cell_type": "code",
   "execution_count": 11,
   "id": "42608806-148e-4acb-9021-c2b6c1c9273e",
   "metadata": {},
   "outputs": [
    {
     "data": {
      "text/plain": [
       "array([[-1.61952988,  0.45095009, -1.77445415,  0.04374031,  0.06701448,\n",
       "        -0.91392069],\n",
       "       [-0.79916993,  1.85655306, -0.91169017,  0.54806597, -0.01839156,\n",
       "         0.92971392],\n",
       "       [-0.74847909,  0.88203886, -1.17139423,  0.41102067, -0.04353101,\n",
       "         0.40147313],\n",
       "       ...,\n",
       "       [-1.45612897,  0.31174559,  1.12423941,  0.49187676,  0.19371564,\n",
       "        -0.50640956],\n",
       "       [-2.27051793,  0.97979111,  0.62796456,  0.63977007,  0.06773549,\n",
       "        -0.86040762],\n",
       "       [-0.42697475, -0.53669021,  1.6289552 , -0.39171595,  0.45048209,\n",
       "        -0.49615364]])"
      ]
     },
     "execution_count": 11,
     "metadata": {},
     "output_type": "execute_result"
    }
   ],
   "source": [
    "pca_transformed"
   ]
  },
  {
   "cell_type": "code",
   "execution_count": 12,
   "id": "2267cf92-0544-4514-8d57-a4a81b361cc1",
   "metadata": {},
   "outputs": [
    {
     "data": {
      "text/plain": [
       "array([[ 0.48931422, -0.23858436,  0.46363166,  0.14610715,  0.21224658,\n",
       "        -0.03615752,  0.02357485,  0.39535301, -0.43851962,  0.24292133,\n",
       "        -0.11323207],\n",
       "       [-0.11050274,  0.27493048, -0.15179136,  0.27208024,  0.14805156,\n",
       "         0.51356681,  0.56948696,  0.23357549,  0.00671079, -0.03755392,\n",
       "        -0.38618096],\n",
       "       [-0.12330157, -0.44996253,  0.23824707,  0.10128338, -0.09261383,\n",
       "         0.42879287,  0.3224145 , -0.33887135,  0.05769735,  0.27978615,\n",
       "         0.47167322],\n",
       "       [-0.22961737,  0.07895978, -0.07941826, -0.37279256,  0.66619476,\n",
       "        -0.04353782, -0.03457712, -0.17449976, -0.00378775,  0.55087236,\n",
       "        -0.12218109],\n",
       "       [-0.08261366,  0.21873452, -0.05857268,  0.73214429,  0.2465009 ,\n",
       "        -0.15915198, -0.22246456,  0.15707671,  0.26752977,  0.22596222,\n",
       "         0.35068141],\n",
       "       [ 0.10147858,  0.41144893,  0.06959338,  0.04915555,  0.30433857,\n",
       "        -0.01400021,  0.13630755, -0.3911523 , -0.52211645, -0.38126343,\n",
       "         0.36164504]])"
      ]
     },
     "execution_count": 12,
     "metadata": {},
     "output_type": "execute_result"
    }
   ],
   "source": [
    "pca.components_ "
   ]
  },
  {
   "cell_type": "code",
   "execution_count": 13,
   "id": "4b3dc1ba-08c6-4a48-b69e-f85d858beaeb",
   "metadata": {},
   "outputs": [
    {
     "data": {
      "text/plain": [
       "array([3.10107182, 1.92711489, 1.55151379, 1.21399175, 0.95989238,\n",
       "       0.66002104])"
      ]
     },
     "execution_count": 13,
     "metadata": {},
     "output_type": "execute_result"
    }
   ],
   "source": [
    "pca.explained_variance_ "
   ]
  },
  {
   "cell_type": "code",
   "execution_count": 14,
   "id": "e75a6f48-5b17-4780-a366-d3b97f285dcb",
   "metadata": {},
   "outputs": [
    {
     "data": {
      "image/png": "[encoded data removed]",
      "text/plain": [
       "<Figure size 640x480 with 1 Axes>"
      ]
     },
     "metadata": {},
     "output_type": "display_data"
    }
   ],
   "source": [
    "plt.plot(pca.explained_variance_) \n",
    "plt.grid()"
   ]
  },
  {
   "cell_type": "code",
   "execution_count": 15,
   "id": "0bd0bb27-b4a6-484f-a5e7-2db8d1095223",
   "metadata": {},
   "outputs": [
    {
     "data": {
      "image/png": "[encoded data removed]",
      "text/plain": [
       "<Figure size 640x480 with 1 Axes>"
      ]
     },
     "metadata": {},
     "output_type": "display_data"
    }
   ],
   "source": [
    " plt.plot(range(0,6),pca.explained_variance_) \n",
    "plt.grid() \n",
    "plt.ylabel('Eigen Values') \n",
    "plt.xlabel('Factors') \n",
    "plt.hlines(y=1,xmin=0,xmax=6,linestyles='dashed'); "
   ]
  },
  {
   "cell_type": "code",
   "execution_count": 16,
   "id": "8f638333-2a14-4e57-9a78-db84ccabbdf0",
   "metadata": {},
   "outputs": [
    {
     "data": {
      "text/plain": [
       "array([0.28173931, 0.1750827 , 0.1409585 , 0.11029387, 0.08720837,\n",
       "       0.05996439])"
      ]
     },
     "execution_count": 16,
     "metadata": {},
     "output_type": "execute_result"
    }
   ],
   "source": [
    "pca.explained_variance_ratio_ "
   ]
  },
  {
   "cell_type": "code",
   "execution_count": 32,
   "id": "d7ef3da7-9d95-4e7b-a56d-30160f3c9c22",
   "metadata": {},
   "outputs": [
    {
     "name": "stdout",
     "output_type": "stream",
     "text": [
      "Eigenvalues: [ 7.11247837e+01 -1.12478374e+00 -5.34821706e-15 -1.66225176e-16]\n",
      "First two eigenvalues: [71.12478374 -1.12478374]\n"
     ]
    }
   ],
   "source": [
    "# Define the matrix 'a'\n",
    "a = np.arange(10, 26).reshape(4, 4)\n",
    "\n",
    "# Calculate eigenvalues and eigenvectors\n",
    "eigenvalues, eigenvectors = np.linalg.eig(a)\n",
    "\n",
    "# Eigenvalues\n",
    "print(\"Eigenvalues:\", eigenvalues)\n",
    "\n",
    "# Since you need the first two eigenvalues\n",
    "first_two_eigenvalues = eigenvalues[:2]\n",
    "print(\"First two eigenvalues:\", first_two_eigenvalues)\n"
   ]
  },
  {
   "cell_type": "code",
   "execution_count": 88,
   "id": "d1c3180c-0eda-465c-b248-5df9648a72c4",
   "metadata": {},
   "outputs": [],
   "source": [
    "df1 = pd.read_csv('Downloads/Machine Learning 1/Smoking.csv')"
   ]
  },
  {
   "cell_type": "code",
   "execution_count": 89,
   "id": "f6ce4eb2-63d1-40ac-9422-139614d1115c",
   "metadata": {},
   "outputs": [
    {
     "data": {
      "text/html": [
       "<div>\n",
       "<style scoped>\n",
       "    .dataframe tbody tr th:only-of-type {\n",
       "        vertical-align: middle;\n",
       "    }\n",
       "\n",
       "    .dataframe tbody tr th {\n",
       "        vertical-align: top;\n",
       "    }\n",
       "\n",
       "    .dataframe thead th {\n",
       "        text-align: right;\n",
       "    }\n",
       "</style>\n",
       "<table border=\"1\" class=\"dataframe\">\n",
       "  <thead>\n",
       "    <tr style=\"text-align: right;\">\n",
       "      <th></th>\n",
       "      <th>ID</th>\n",
       "      <th>age</th>\n",
       "      <th>height(cm)</th>\n",
       "      <th>weight(kg)</th>\n",
       "      <th>eyesight(left)</th>\n",
       "      <th>eyesight(right)</th>\n",
       "      <th>systolic</th>\n",
       "      <th>fasting blood sugar</th>\n",
       "      <th>Cholesterol</th>\n",
       "      <th>triglyceride</th>\n",
       "      <th>HDL</th>\n",
       "      <th>LDL</th>\n",
       "      <th>hemoglobin</th>\n",
       "      <th>serum creatinine</th>\n",
       "      <th>smoking</th>\n",
       "    </tr>\n",
       "  </thead>\n",
       "  <tbody>\n",
       "    <tr>\n",
       "      <th>0</th>\n",
       "      <td>0</td>\n",
       "      <td>40</td>\n",
       "      <td>155</td>\n",
       "      <td>60</td>\n",
       "      <td>1.2</td>\n",
       "      <td>1.0</td>\n",
       "      <td>114</td>\n",
       "      <td>94</td>\n",
       "      <td>215</td>\n",
       "      <td>82</td>\n",
       "      <td>73</td>\n",
       "      <td>126</td>\n",
       "      <td>12.9</td>\n",
       "      <td>0.7</td>\n",
       "      <td>0</td>\n",
       "    </tr>\n",
       "    <tr>\n",
       "      <th>1</th>\n",
       "      <td>1</td>\n",
       "      <td>40</td>\n",
       "      <td>160</td>\n",
       "      <td>60</td>\n",
       "      <td>0.8</td>\n",
       "      <td>0.6</td>\n",
       "      <td>119</td>\n",
       "      <td>130</td>\n",
       "      <td>192</td>\n",
       "      <td>115</td>\n",
       "      <td>42</td>\n",
       "      <td>127</td>\n",
       "      <td>12.7</td>\n",
       "      <td>0.6</td>\n",
       "      <td>0</td>\n",
       "    </tr>\n",
       "    <tr>\n",
       "      <th>2</th>\n",
       "      <td>2</td>\n",
       "      <td>55</td>\n",
       "      <td>170</td>\n",
       "      <td>60</td>\n",
       "      <td>0.8</td>\n",
       "      <td>0.8</td>\n",
       "      <td>138</td>\n",
       "      <td>89</td>\n",
       "      <td>242</td>\n",
       "      <td>182</td>\n",
       "      <td>55</td>\n",
       "      <td>151</td>\n",
       "      <td>15.8</td>\n",
       "      <td>1.0</td>\n",
       "      <td>1</td>\n",
       "    </tr>\n",
       "    <tr>\n",
       "      <th>3</th>\n",
       "      <td>3</td>\n",
       "      <td>40</td>\n",
       "      <td>165</td>\n",
       "      <td>70</td>\n",
       "      <td>1.5</td>\n",
       "      <td>1.5</td>\n",
       "      <td>100</td>\n",
       "      <td>96</td>\n",
       "      <td>322</td>\n",
       "      <td>254</td>\n",
       "      <td>45</td>\n",
       "      <td>226</td>\n",
       "      <td>14.7</td>\n",
       "      <td>1.0</td>\n",
       "      <td>0</td>\n",
       "    </tr>\n",
       "    <tr>\n",
       "      <th>4</th>\n",
       "      <td>4</td>\n",
       "      <td>40</td>\n",
       "      <td>155</td>\n",
       "      <td>60</td>\n",
       "      <td>1.0</td>\n",
       "      <td>1.0</td>\n",
       "      <td>120</td>\n",
       "      <td>80</td>\n",
       "      <td>184</td>\n",
       "      <td>74</td>\n",
       "      <td>62</td>\n",
       "      <td>107</td>\n",
       "      <td>12.5</td>\n",
       "      <td>0.6</td>\n",
       "      <td>0</td>\n",
       "    </tr>\n",
       "  </tbody>\n",
       "</table>\n",
       "</div>"
      ],
      "text/plain": [
       "   ID  age  height(cm)  weight(kg)  eyesight(left)  eyesight(right)  systolic  \\\n",
       "0   0   40         155          60             1.2              1.0       114   \n",
       "1   1   40         160          60             0.8              0.6       119   \n",
       "2   2   55         170          60             0.8              0.8       138   \n",
       "3   3   40         165          70             1.5              1.5       100   \n",
       "4   4   40         155          60             1.0              1.0       120   \n",
       "\n",
       "   fasting blood sugar  Cholesterol  triglyceride  HDL  LDL  hemoglobin  \\\n",
       "0                   94          215            82   73  126        12.9   \n",
       "1                  130          192           115   42  127        12.7   \n",
       "2                   89          242           182   55  151        15.8   \n",
       "3                   96          322           254   45  226        14.7   \n",
       "4                   80          184            74   62  107        12.5   \n",
       "\n",
       "   serum creatinine  smoking  \n",
       "0               0.7        0  \n",
       "1               0.6        0  \n",
       "2               1.0        1  \n",
       "3               1.0        0  \n",
       "4               0.6        0  "
      ]
     },
     "execution_count": 89,
     "metadata": {},
     "output_type": "execute_result"
    }
   ],
   "source": [
    "df1.head(5)"
   ]
  },
  {
   "cell_type": "code",
   "execution_count": 90,
   "id": "8e7b9308-f6d7-4038-84d7-d40c10ed1ba0",
   "metadata": {},
   "outputs": [],
   "source": [
    "df1.drop(['ID','smoking'],axis=1,inplace=True)"
   ]
  },
  {
   "cell_type": "code",
   "execution_count": 91,
   "id": "0136429d-91b6-4dca-9f33-cd1d93bc7aa3",
   "metadata": {},
   "outputs": [
    {
     "data": {
      "text/plain": [
       "(469, 13)"
      ]
     },
     "execution_count": 91,
     "metadata": {},
     "output_type": "execute_result"
    }
   ],
   "source": [
    "df1.shape"
   ]
  },
  {
   "cell_type": "code",
   "execution_count": 92,
   "id": "6b7585d9-6140-4e50-a5c6-7f85bc882783",
   "metadata": {},
   "outputs": [
    {
     "data": {
      "text/html": [
       "<div>\n",
       "<style scoped>\n",
       "    .dataframe tbody tr th:only-of-type {\n",
       "        vertical-align: middle;\n",
       "    }\n",
       "\n",
       "    .dataframe tbody tr th {\n",
       "        vertical-align: top;\n",
       "    }\n",
       "\n",
       "    .dataframe thead th {\n",
       "        text-align: right;\n",
       "    }\n",
       "</style>\n",
       "<table border=\"1\" class=\"dataframe\">\n",
       "  <thead>\n",
       "    <tr style=\"text-align: right;\">\n",
       "      <th></th>\n",
       "      <th>age</th>\n",
       "      <th>height(cm)</th>\n",
       "      <th>weight(kg)</th>\n",
       "      <th>eyesight(left)</th>\n",
       "      <th>eyesight(right)</th>\n",
       "      <th>systolic</th>\n",
       "      <th>fasting blood sugar</th>\n",
       "      <th>Cholesterol</th>\n",
       "      <th>triglyceride</th>\n",
       "      <th>HDL</th>\n",
       "      <th>LDL</th>\n",
       "      <th>hemoglobin</th>\n",
       "      <th>serum creatinine</th>\n",
       "    </tr>\n",
       "  </thead>\n",
       "  <tbody>\n",
       "    <tr>\n",
       "      <th>0</th>\n",
       "      <td>40</td>\n",
       "      <td>155</td>\n",
       "      <td>60</td>\n",
       "      <td>1.2</td>\n",
       "      <td>1.0</td>\n",
       "      <td>114</td>\n",
       "      <td>94</td>\n",
       "      <td>215</td>\n",
       "      <td>82</td>\n",
       "      <td>73</td>\n",
       "      <td>126</td>\n",
       "      <td>12.9</td>\n",
       "      <td>0.7</td>\n",
       "    </tr>\n",
       "    <tr>\n",
       "      <th>1</th>\n",
       "      <td>40</td>\n",
       "      <td>160</td>\n",
       "      <td>60</td>\n",
       "      <td>0.8</td>\n",
       "      <td>0.6</td>\n",
       "      <td>119</td>\n",
       "      <td>130</td>\n",
       "      <td>192</td>\n",
       "      <td>115</td>\n",
       "      <td>42</td>\n",
       "      <td>127</td>\n",
       "      <td>12.7</td>\n",
       "      <td>0.6</td>\n",
       "    </tr>\n",
       "    <tr>\n",
       "      <th>2</th>\n",
       "      <td>55</td>\n",
       "      <td>170</td>\n",
       "      <td>60</td>\n",
       "      <td>0.8</td>\n",
       "      <td>0.8</td>\n",
       "      <td>138</td>\n",
       "      <td>89</td>\n",
       "      <td>242</td>\n",
       "      <td>182</td>\n",
       "      <td>55</td>\n",
       "      <td>151</td>\n",
       "      <td>15.8</td>\n",
       "      <td>1.0</td>\n",
       "    </tr>\n",
       "    <tr>\n",
       "      <th>3</th>\n",
       "      <td>40</td>\n",
       "      <td>165</td>\n",
       "      <td>70</td>\n",
       "      <td>1.5</td>\n",
       "      <td>1.5</td>\n",
       "      <td>100</td>\n",
       "      <td>96</td>\n",
       "      <td>322</td>\n",
       "      <td>254</td>\n",
       "      <td>45</td>\n",
       "      <td>226</td>\n",
       "      <td>14.7</td>\n",
       "      <td>1.0</td>\n",
       "    </tr>\n",
       "    <tr>\n",
       "      <th>4</th>\n",
       "      <td>40</td>\n",
       "      <td>155</td>\n",
       "      <td>60</td>\n",
       "      <td>1.0</td>\n",
       "      <td>1.0</td>\n",
       "      <td>120</td>\n",
       "      <td>80</td>\n",
       "      <td>184</td>\n",
       "      <td>74</td>\n",
       "      <td>62</td>\n",
       "      <td>107</td>\n",
       "      <td>12.5</td>\n",
       "      <td>0.6</td>\n",
       "    </tr>\n",
       "  </tbody>\n",
       "</table>\n",
       "</div>"
      ],
      "text/plain": [
       "   age  height(cm)  weight(kg)  eyesight(left)  eyesight(right)  systolic  \\\n",
       "0   40         155          60             1.2              1.0       114   \n",
       "1   40         160          60             0.8              0.6       119   \n",
       "2   55         170          60             0.8              0.8       138   \n",
       "3   40         165          70             1.5              1.5       100   \n",
       "4   40         155          60             1.0              1.0       120   \n",
       "\n",
       "   fasting blood sugar  Cholesterol  triglyceride  HDL  LDL  hemoglobin  \\\n",
       "0                   94          215            82   73  126        12.9   \n",
       "1                  130          192           115   42  127        12.7   \n",
       "2                   89          242           182   55  151        15.8   \n",
       "3                   96          322           254   45  226        14.7   \n",
       "4                   80          184            74   62  107        12.5   \n",
       "\n",
       "   serum creatinine  \n",
       "0               0.7  \n",
       "1               0.6  \n",
       "2               1.0  \n",
       "3               1.0  \n",
       "4               0.6  "
      ]
     },
     "execution_count": 92,
     "metadata": {},
     "output_type": "execute_result"
    }
   ],
   "source": [
    "df1.head()"
   ]
  },
  {
   "cell_type": "code",
   "execution_count": 93,
   "id": "f7584e81-758b-412a-a5f5-f2d6b5c60084",
   "metadata": {},
   "outputs": [
    {
     "name": "stdout",
     "output_type": "stream",
     "text": [
      "<class 'pandas.core.frame.DataFrame'>\n",
      "RangeIndex: 469 entries, 0 to 468\n",
      "Data columns (total 13 columns):\n",
      " #   Column               Non-Null Count  Dtype  \n",
      "---  ------               --------------  -----  \n",
      " 0   age                  469 non-null    int64  \n",
      " 1   height(cm)           469 non-null    int64  \n",
      " 2   weight(kg)           469 non-null    int64  \n",
      " 3   eyesight(left)       469 non-null    float64\n",
      " 4   eyesight(right)      469 non-null    float64\n",
      " 5   systolic             469 non-null    int64  \n",
      " 6   fasting blood sugar  469 non-null    int64  \n",
      " 7   Cholesterol          469 non-null    int64  \n",
      " 8   triglyceride         469 non-null    int64  \n",
      " 9   HDL                  469 non-null    int64  \n",
      " 10  LDL                  469 non-null    int64  \n",
      " 11  hemoglobin           469 non-null    float64\n",
      " 12  serum creatinine     469 non-null    float64\n",
      "dtypes: float64(4), int64(9)\n",
      "memory usage: 47.8 KB\n"
     ]
    }
   ],
   "source": [
    "df1.info()"
   ]
  },
  {
   "cell_type": "code",
   "execution_count": 81,
   "id": "2106b046-bd6a-4ce2-b18b-304748fb027d",
   "metadata": {},
   "outputs": [
    {
     "name": "stdout",
     "output_type": "stream",
     "text": [
      "Standard Deviation before normalization: 13.761920179692876\n",
      "Standard Deviation after normalization: 1.0000000000000002\n"
     ]
    }
   ],
   "source": [
    "# Calculate the standard deviation before normalization\n",
    "std_dev_before = df1['systolic'].std()\n",
    "\n",
    "# Perform Z-score normalization\n",
    "df1['systolic_normalized'] = (df1['systolic'] - df1['systolic'].mean()) / df1['systolic'].std()\n",
    "\n",
    "# The standard deviation after normalization will be 1, but let's calculate to confirm\n",
    "std_dev_after = df1['systolic_normalized'].std()\n",
    "\n",
    "print(f\"Standard Deviation before normalization: {std_dev_before}\")\n",
    "print(f\"Standard Deviation after normalization: {std_dev_after}\")"
   ]
  },
  {
   "cell_type": "code",
   "execution_count": 96,
   "id": "7fb1f4e1-ba61-4684-8510-8bb97e8dd5e7",
   "metadata": {},
   "outputs": [
    {
     "name": "stdout",
     "output_type": "stream",
     "text": [
      "Eigenvector of the 4th principal component: [ 0.06575939 -0.25025168 -0.09155151  0.63711993  0.53505129  0.1213242\n",
      "  0.10772303  0.05313852  0.24458797 -0.21017278  0.05237981 -0.20962859\n",
      " -0.22942373]\n"
     ]
    }
   ],
   "source": [
    "# Standardize the features\n",
    "scaler = StandardScaler()\n",
    "df1_scaled = scaler.fit_transform(df1)\n",
    "\n",
    "# Apply PCA\n",
    "pca = PCA(n_components=8, random_state=42)\n",
    "pca.fit(df1_scaled)\n",
    "\n",
    "# Eigenvector of the 4th principal component\n",
    "eigenvector_4th = pca.components_[3]\n",
    "print(\"Eigenvector of the 4th principal component:\", eigenvector_4th)"
   ]
  },
  {
   "cell_type": "code",
   "execution_count": 94,
   "id": "9612ea95-a7e9-47c3-82e5-13b0587edb8e",
   "metadata": {},
   "outputs": [],
   "source": [
    "scaler = StandardScaler()\n",
    "df1_normalized = scaler.fit_transform(df1)\n",
    "\n",
    "# Apply PCA\n",
    "pca = PCA(n_components=8, random_state=42)\n",
    "pca.fit(df1_normalized)\n",
    "\n",
    "# Eigenvalues\n",
    "eigenvalues = pca.explained_variance_"
   ]
  },
  {
   "cell_type": "code",
   "execution_count": 95,
   "id": "9a24fe66-fd0a-49dc-942d-8032ff224374",
   "metadata": {},
   "outputs": [
    {
     "data": {
      "text/plain": [
       "array([3.39222588, 2.02584222, 1.48029305, 1.13993914, 0.9515798 ,\n",
       "       0.86285752, 0.76984545, 0.70508037])"
      ]
     },
     "execution_count": 95,
     "metadata": {},
     "output_type": "execute_result"
    }
   ],
   "source": [
    "eigenvalues"
   ]
  },
  {
   "cell_type": "code",
   "execution_count": 97,
   "id": "6f4c3a82-5869-4e0e-adcf-4b5cd6974ea8",
   "metadata": {},
   "outputs": [
    {
     "name": "stdout",
     "output_type": "stream",
     "text": [
      "Explained variances in correct order: [0.26038408 0.15550175 0.11362591 0.08750066 0.07304237 0.06623213\n",
      " 0.05909261 0.05412131]\n"
     ]
    }
   ],
   "source": [
    "# Normalize the dataset\n",
    "scaler = StandardScaler()\n",
    "df1_normalized = scaler.fit_transform(df1)\n",
    "\n",
    "# Apply PCA\n",
    "pca = PCA(n_components=8, random_state=42)\n",
    "pca.fit(df1_normalized)\n",
    "\n",
    "# Get the explained variance ratio of the principal components\n",
    "explained_variances = pca.explained_variance_ratio_\n",
    "print(\"Explained variances in correct order:\", explained_variances)"
   ]
  },
  {
   "cell_type": "code",
   "execution_count": null,
   "id": "77315291-18b9-437b-9552-2a4508c019e1",
   "metadata": {},
   "outputs": [],
   "source": []
  }
 ],
 "metadata": {
  "kernelspec": {
   "display_name": "Python 3 (ipykernel)",
   "language": "python",
   "name": "python3"
  },
  "language_info": {
   "codemirror_mode": {
    "name": "ipython",
    "version": 3
   },
   "file_extension": ".py",
   "mimetype": "text/x-python",
   "name": "python",
   "nbconvert_exporter": "python",
   "pygments_lexer": "ipython3",
   "version": "3.11.5"
  }
 },
 "nbformat": 4,
 "nbformat_minor": 5
}
