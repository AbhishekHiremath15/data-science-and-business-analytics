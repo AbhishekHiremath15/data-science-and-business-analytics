{
 "cells": [
  {
   "cell_type": "code",
   "execution_count": 1,
   "id": "1a3cfcf2-6957-474f-945c-7abf229cd866",
   "metadata": {},
   "outputs": [],
   "source": [
    "#Importing necessary Libraries\n",
    "import numpy as np\n",
    "import pandas as pd\n",
    "import seaborn as sns\n",
    "# For n-way ANOVA\n",
    "from statsmodels.formula.api import ols      \n",
    "# For n-way ANOVA\n",
    "from statsmodels.stats.anova import _get_covariance,anova_lm\n",
    "%matplotlib inline\n",
    "import matplotlib.pyplot as plt \n",
    "import scipy.stats as stats\n",
    "from scipy.stats import ttest_1samp, ttest_ind\n",
    "from statsmodels.stats.power import ttest_power\n",
    "\n",
    "import warnings\n",
    "warnings.filterwarnings('ignore')"
   ]
  },
  {
   "cell_type": "code",
   "execution_count": 2,
   "id": "dfc299e8-a3d9-4e32-8c9c-259668f9ebd2",
   "metadata": {},
   "outputs": [],
   "source": [
    "#Importing necessary Libraries\n",
    "from scipy.stats import zscore\n",
    "from sklearn.preprocessing import StandardScaler\n",
    "from scipy.cluster.hierarchy import linkage, dendrogram, fcluster\n",
    "from sklearn.cluster import KMeans\n",
    "from sklearn.metrics import silhouette_score, silhouette_samples"
   ]
  },
  {
   "cell_type": "code",
   "execution_count": 3,
   "id": "3f2a9b70-730b-4572-a74e-f8416726e523",
   "metadata": {},
   "outputs": [],
   "source": [
    "# read the data\n",
    "df = pd.read_csv('Downloads/Machine Learning 1/Week -2/Drinks_Menu.csv')"
   ]
  },
  {
   "cell_type": "code",
   "execution_count": 4,
   "id": "fb494a14-34ed-48de-9c2f-3c9a94c1acab",
   "metadata": {},
   "outputs": [
    {
     "data": {
      "text/html": [
       "<div>\n",
       "<style scoped>\n",
       "    .dataframe tbody tr th:only-of-type {\n",
       "        vertical-align: middle;\n",
       "    }\n",
       "\n",
       "    .dataframe tbody tr th {\n",
       "        vertical-align: top;\n",
       "    }\n",
       "\n",
       "    .dataframe thead th {\n",
       "        text-align: right;\n",
       "    }\n",
       "</style>\n",
       "<table border=\"1\" class=\"dataframe\">\n",
       "  <thead>\n",
       "    <tr style=\"text-align: right;\">\n",
       "      <th></th>\n",
       "      <th>Calories</th>\n",
       "      <th>Total Fat (g)</th>\n",
       "      <th>Cholesterol (mg)</th>\n",
       "    </tr>\n",
       "  </thead>\n",
       "  <tbody>\n",
       "    <tr>\n",
       "      <th>0</th>\n",
       "      <td>3</td>\n",
       "      <td>0.1</td>\n",
       "      <td>0</td>\n",
       "    </tr>\n",
       "    <tr>\n",
       "      <th>1</th>\n",
       "      <td>4</td>\n",
       "      <td>0.1</td>\n",
       "      <td>0</td>\n",
       "    </tr>\n",
       "    <tr>\n",
       "      <th>2</th>\n",
       "      <td>5</td>\n",
       "      <td>0.1</td>\n",
       "      <td>0</td>\n",
       "    </tr>\n",
       "    <tr>\n",
       "      <th>3</th>\n",
       "      <td>5</td>\n",
       "      <td>0.1</td>\n",
       "      <td>0</td>\n",
       "    </tr>\n",
       "    <tr>\n",
       "      <th>4</th>\n",
       "      <td>70</td>\n",
       "      <td>0.1</td>\n",
       "      <td>10</td>\n",
       "    </tr>\n",
       "  </tbody>\n",
       "</table>\n",
       "</div>"
      ],
      "text/plain": [
       "   Calories   Total Fat (g)  Cholesterol (mg)\n",
       "0         3             0.1                 0\n",
       "1         4             0.1                 0\n",
       "2         5             0.1                 0\n",
       "3         5             0.1                 0\n",
       "4        70             0.1                10"
      ]
     },
     "execution_count": 4,
     "metadata": {},
     "output_type": "execute_result"
    }
   ],
   "source": [
    "df.head()"
   ]
  },
  {
   "cell_type": "code",
   "execution_count": 5,
   "id": "9c48ab7d-eb1f-4bfc-bcd4-d8c30fbea2d9",
   "metadata": {},
   "outputs": [
    {
     "data": {
      "text/plain": [
       "(242, 3)"
      ]
     },
     "execution_count": 5,
     "metadata": {},
     "output_type": "execute_result"
    }
   ],
   "source": [
    "df.shape"
   ]
  },
  {
   "cell_type": "code",
   "execution_count": 6,
   "id": "c6b939b7-fd58-4f1f-ad97-47dc7f0860cc",
   "metadata": {},
   "outputs": [
    {
     "name": "stdout",
     "output_type": "stream",
     "text": [
      "<class 'pandas.core.frame.DataFrame'>\n",
      "RangeIndex: 242 entries, 0 to 241\n",
      "Data columns (total 3 columns):\n",
      " #   Column            Non-Null Count  Dtype  \n",
      "---  ------            --------------  -----  \n",
      " 0   Calories          242 non-null    int64  \n",
      " 1    Total Fat (g)    242 non-null    float64\n",
      " 2   Cholesterol (mg)  242 non-null    int64  \n",
      "dtypes: float64(1), int64(2)\n",
      "memory usage: 5.8 KB\n"
     ]
    }
   ],
   "source": [
    "df.info()"
   ]
  },
  {
   "cell_type": "code",
   "execution_count": 7,
   "id": "c09fc9a9-92a4-4d59-9771-34b32c1287ff",
   "metadata": {},
   "outputs": [
    {
     "data": {
      "text/html": [
       "<div>\n",
       "<style scoped>\n",
       "    .dataframe tbody tr th:only-of-type {\n",
       "        vertical-align: middle;\n",
       "    }\n",
       "\n",
       "    .dataframe tbody tr th {\n",
       "        vertical-align: top;\n",
       "    }\n",
       "\n",
       "    .dataframe thead th {\n",
       "        text-align: right;\n",
       "    }\n",
       "</style>\n",
       "<table border=\"1\" class=\"dataframe\">\n",
       "  <thead>\n",
       "    <tr style=\"text-align: right;\">\n",
       "      <th></th>\n",
       "      <th>count</th>\n",
       "      <th>mean</th>\n",
       "      <th>std</th>\n",
       "      <th>min</th>\n",
       "      <th>25%</th>\n",
       "      <th>50%</th>\n",
       "      <th>75%</th>\n",
       "      <th>max</th>\n",
       "    </tr>\n",
       "  </thead>\n",
       "  <tbody>\n",
       "    <tr>\n",
       "      <th>Calories</th>\n",
       "      <td>242.0</td>\n",
       "      <td>193.871901</td>\n",
       "      <td>102.863303</td>\n",
       "      <td>0.0</td>\n",
       "      <td>120.0</td>\n",
       "      <td>185.0</td>\n",
       "      <td>260.00</td>\n",
       "      <td>510.0</td>\n",
       "    </tr>\n",
       "    <tr>\n",
       "      <th>Total Fat (g)</th>\n",
       "      <td>242.0</td>\n",
       "      <td>2.904959</td>\n",
       "      <td>2.944376</td>\n",
       "      <td>0.0</td>\n",
       "      <td>0.2</td>\n",
       "      <td>2.5</td>\n",
       "      <td>4.50</td>\n",
       "      <td>15.0</td>\n",
       "    </tr>\n",
       "    <tr>\n",
       "      <th>Cholesterol (mg)</th>\n",
       "      <td>242.0</td>\n",
       "      <td>35.991736</td>\n",
       "      <td>20.795186</td>\n",
       "      <td>0.0</td>\n",
       "      <td>21.0</td>\n",
       "      <td>34.0</td>\n",
       "      <td>50.75</td>\n",
       "      <td>90.0</td>\n",
       "    </tr>\n",
       "  </tbody>\n",
       "</table>\n",
       "</div>"
      ],
      "text/plain": [
       "                  count        mean         std  min    25%    50%     75%  \\\n",
       "Calories          242.0  193.871901  102.863303  0.0  120.0  185.0  260.00   \n",
       " Total Fat (g)    242.0    2.904959    2.944376  0.0    0.2    2.5    4.50   \n",
       "Cholesterol (mg)  242.0   35.991736   20.795186  0.0   21.0   34.0   50.75   \n",
       "\n",
       "                    max  \n",
       "Calories          510.0  \n",
       " Total Fat (g)     15.0  \n",
       "Cholesterol (mg)   90.0  "
      ]
     },
     "execution_count": 7,
     "metadata": {},
     "output_type": "execute_result"
    }
   ],
   "source": [
    "df.describe().T"
   ]
  },
  {
   "cell_type": "code",
   "execution_count": 8,
   "id": "4f4586ca-59cc-411a-8ed9-d4bb4bd35de0",
   "metadata": {},
   "outputs": [
    {
     "data": {
      "text/plain": [
       "Calories            0\n",
       " Total Fat (g)      0\n",
       "Cholesterol (mg)    0\n",
       "dtype: int64"
      ]
     },
     "execution_count": 8,
     "metadata": {},
     "output_type": "execute_result"
    }
   ],
   "source": [
    "# check for null values\n",
    "df.isnull().sum()"
   ]
  },
  {
   "cell_type": "code",
   "execution_count": 9,
   "id": "93fad4e0-ca9c-4b97-a165-5b3d43904eb2",
   "metadata": {},
   "outputs": [
    {
     "data": {
      "text/plain": [
       "28"
      ]
     },
     "execution_count": 9,
     "metadata": {},
     "output_type": "execute_result"
    }
   ],
   "source": [
    "# check for duplicate values\n",
    "df.duplicated().sum()"
   ]
  },
  {
   "cell_type": "code",
   "execution_count": 10,
   "id": "1b2a2ccd-9c07-4fd0-89b7-cc2372f396a4",
   "metadata": {},
   "outputs": [],
   "source": [
    "# Remove duplicates\n",
    "df.drop_duplicates(inplace=True)\n",
    "\n",
    "# Save the cleaned data back to CSV\n",
    "df.to_csv('drinks_menu_clean.csv', index=False)\n"
   ]
  },
  {
   "cell_type": "code",
   "execution_count": 11,
   "id": "343e21ee-7e59-4223-9ece-1f40b6478a16",
   "metadata": {},
   "outputs": [
    {
     "name": "stdout",
     "output_type": "stream",
     "text": [
      "Minimum before scaling: 0\n",
      "Maximum before scaling: 510\n",
      "Minimum after scaling: -1.9905495546269594\n",
      "Maximum after scaling: 3.037537986558181\n"
     ]
    }
   ],
   "source": [
    "# Before scaling\n",
    "min_before_scaling = df['Calories'].min()\n",
    "max_before_scaling = df['Calories'].max()\n",
    "\n",
    "# Scaling\n",
    "scaler = StandardScaler()\n",
    "df_scaled = scaler.fit_transform(df[['Calories']])\n",
    "\n",
    "# After scaling\n",
    "min_after_scaling = df_scaled.min()\n",
    "max_after_scaling = df_scaled.max()\n",
    "\n",
    "print(f\"Minimum before scaling: {min_before_scaling}\")\n",
    "print(f\"Maximum before scaling: {max_before_scaling}\")\n",
    "print(f\"Minimum after scaling: {min_after_scaling}\")\n",
    "print(f\"Maximum after scaling: {max_after_scaling}\")"
   ]
  },
  {
   "cell_type": "code",
   "execution_count": 13,
   "id": "fdd07a87-e3eb-4ab3-9aab-3ec197fc41ca",
   "metadata": {},
   "outputs": [
    {
     "data": {
      "image/png": "[encoded data removed]",
      "text/plain": [
       "<Figure size 1200x800 with 3 Axes>"
      ]
     },
     "metadata": {},
     "output_type": "display_data"
    }
   ],
   "source": [
    "plt.figure(figsize=(12,8))\n",
    "feature_list=df.columns\n",
    "for i in range(len(feature_list)):\n",
    "    plt.subplot(4,4,i+1)\n",
    "    sns.boxplot(y=df[feature_list[i]],data=df)\n",
    "    plt.title('Boxplot of {}'.format(feature_list[i]))\n",
    "    plt.tight_layout()"
   ]
  },
  {
   "cell_type": "code",
   "execution_count": 14,
   "id": "b2eab695-8bf6-4c9d-bd3e-8efd5f0d0b74",
   "metadata": {},
   "outputs": [],
   "source": [
    "def remove_outlier(col):\n",
    "    Q1,Q3=col.quantile([0.25,0.75])\n",
    "    IQR=Q3-Q1\n",
    "    lower_range=Q1-(1.5*IQR)\n",
    "    upper_range=Q3+(1.5*IQR)\n",
    "    return lower_range,upper_range"
   ]
  },
  {
   "cell_type": "code",
   "execution_count": 15,
   "id": "bc840662-3cd3-41c8-991a-0277596dd744",
   "metadata": {},
   "outputs": [],
   "source": [
    "for i in feature_list:\n",
    "    LL,UL=remove_outlier(df[i])\n",
    "    df[i]=np.where(df[i]>UL,UL,df[i])\n",
    "    df[i]=np.where(df[i]<LL,LL,df[i])"
   ]
  },
  {
   "cell_type": "code",
   "execution_count": 16,
   "id": "59f5a2ea-bc89-495b-b3fa-970d3b9b5ae1",
   "metadata": {},
   "outputs": [
    {
     "data": {
      "image/png": "[encoded data removed]",
      "text/plain": [
       "<Figure size 1200x800 with 3 Axes>"
      ]
     },
     "metadata": {},
     "output_type": "display_data"
    }
   ],
   "source": [
    "plt.figure(figsize=(12,8))\n",
    "feature_list=df.columns\n",
    "for i in range(len(feature_list)):\n",
    "    plt.subplot(4,4,i+1)\n",
    "    sns.boxplot(y=df[feature_list[i]],data=df, color = 'green')\n",
    "    plt.title('Boxplot of {}'.format(feature_list[i]))\n",
    "    plt.tight_layout()"
   ]
  },
  {
   "cell_type": "code",
   "execution_count": 18,
   "id": "616cdd2e-5e04-4945-b959-82c63acace6c",
   "metadata": {},
   "outputs": [],
   "source": [
    "#Scale the data\n",
    "from scipy.stats import zscore\n",
    "df_scaled = df.apply(zscore)"
   ]
  },
  {
   "cell_type": "code",
   "execution_count": 19,
   "id": "053b7f04-643f-4cd8-aa70-bcb511b8840c",
   "metadata": {},
   "outputs": [
    {
     "data": {
      "image/png": "[encoded data removed]",
      "text/plain": [
       "<Figure size 1500x500 with 1 Axes>"
      ]
     },
     "metadata": {},
     "output_type": "display_data"
    }
   ],
   "source": [
    "wardlink = linkage(df_scaled, method='ward',)\n",
    "plt.figure(figsize = (15,5))\n",
    "dend=dendrogram(wardlink,truncate_mode='lastp',p = 20,)"
   ]
  },
  {
   "cell_type": "code",
   "execution_count": 20,
   "id": "abf95874-6fa8-4107-94f1-304d9ecfa0ee",
   "metadata": {},
   "outputs": [
    {
     "data": {
      "text/plain": [
       "220.66231638505766"
      ]
     },
     "execution_count": 20,
     "metadata": {},
     "output_type": "execute_result"
    }
   ],
   "source": [
    "k_means = KMeans(n_clusters = 3,random_state=0)\n",
    "k_means.fit(df_scaled)\n",
    "k_means.inertia_"
   ]
  },
  {
   "cell_type": "code",
   "execution_count": 22,
   "id": "723c78a2-905d-4b2c-837f-69432b62e675",
   "metadata": {},
   "outputs": [
    {
     "name": "stdout",
     "output_type": "stream",
     "text": [
      "The Average Silhouette Score for 2 clusters is 0.55325\n",
      "The Average Silhouette Score for 3 clusters is 0.65963\n",
      "The Average Silhouette Score for 4 clusters is 0.54115\n",
      "The Average Silhouette Score for 5 clusters is 0.44346\n",
      "The Average Silhouette Score for 6 clusters is 0.31327\n",
      "The Average Silhouette Score for 7 clusters is 0.33105\n",
      "The Average Silhouette Score for 8 clusters is 0.33561\n",
      "The Average Silhouette Score for 9 clusters is 0.35455\n",
      "The Average Silhouette Score for 10 clusters is 0.33859\n",
      "The Average Silhouette Score for 11 clusters is 0.34143\n",
      "The Average Silhouette Score for 12 clusters is 0.32586\n",
      "The Average Silhouette Score for 13 clusters is 0.33228\n",
      "The Average Silhouette Score for 14 clusters is 0.34292\n"
     ]
    }
   ],
   "source": [
    "# Getting Silhouette Score clusters from 2 to 14\n",
    "\n",
    "ss={1:0}\n",
    "for i in range(2, 15):\n",
    "    clusterer = KMeans(n_clusters = i, init = 'k-means++', random_state = 42)\n",
    "    y=clusterer.fit_predict(df_scaled) # The higher (up to 1) the better\n",
    "    s =silhouette_score(df_scaled, y )\n",
    "    ss[i]=round(s,5) \n",
    "    print(\"The Average Silhouette Score for {} clusters is {}\".format(i,round(s,5)))"
   ]
  },
  {
   "cell_type": "code",
   "execution_count": 21,
   "id": "84d1615f-d2b3-4a52-bfcb-4d503844bdc9",
   "metadata": {},
   "outputs": [
    {
     "name": "stdout",
     "output_type": "stream",
     "text": [
      "Within Cluster Sum of Squares: 212.355503489229\n"
     ]
    }
   ],
   "source": [
    "from sklearn.datasets import make_blobs\n",
    "# Generate synthetic data\n",
    "df_scaled, _ = make_blobs(n_samples=300, centers=3, cluster_std=0.60, random_state=0)\n",
    "\n",
    "# Apply KMeans\n",
    "kmeans = KMeans(n_clusters=3, random_state=0).fit(df_scaled)\n",
    "\n",
    "# WCSS is the sum of squared distance between each point and its centroid\n",
    "wcss = kmeans.inertia_\n",
    "\n",
    "print(f\"Within Cluster Sum of Squares: {wcss}\")"
   ]
  },
  {
   "cell_type": "code",
   "execution_count": 49,
   "id": "c2e432eb-1ed9-4f0a-9b60-08aacf4257bd",
   "metadata": {},
   "outputs": [
    {
     "name": "stdout",
     "output_type": "stream",
     "text": [
      "The average silhouette score for 3 clusters is: 0.6596332095691734\n"
     ]
    }
   ],
   "source": [
    "# Assuming X is your data and you want to evaluate the silhouette score for 3 clusters\n",
    "kmeans = KMeans(n_clusters=3, random_state=0)\n",
    "cluster_labels = kmeans.fit_predict(df_scaled)\n",
    "\n",
    "# The silhouette_score gives the average value for all the samples.\n",
    "silhouette_avg = silhouette_score(df_scaled, cluster_labels)\n",
    "print(f\"The average silhouette score for 3 clusters is: {silhouette_avg}\")"
   ]
  },
  {
   "cell_type": "code",
   "execution_count": null,
   "id": "ff0ce570-cc9b-46f3-b3ff-f24cf710fe6f",
   "metadata": {},
   "outputs": [],
   "source": []
  }
 ],
 "metadata": {
  "kernelspec": {
   "display_name": "Python 3 (ipykernel)",
   "language": "python",
   "name": "python3"
  },
  "language_info": {
   "codemirror_mode": {
    "name": "ipython",
    "version": 3
   },
   "file_extension": ".py",
   "mimetype": "text/x-python",
   "name": "python",
   "nbconvert_exporter": "python",
   "pygments_lexer": "ipython3",
   "version": "3.11.5"
  }
 },
 "nbformat": 4,
 "nbformat_minor": 5
}
